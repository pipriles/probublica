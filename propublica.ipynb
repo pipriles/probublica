{
 "cells": [
  {
   "cell_type": "code",
   "execution_count": 1,
   "metadata": {},
   "outputs": [],
   "source": [
    "%load_ext autoreload\n",
    "%autoreload 2"
   ]
  },
  {
   "cell_type": "code",
   "execution_count": 2,
   "metadata": {},
   "outputs": [],
   "source": [
    "import requests as rq\n",
    "import functools\n",
    "import re\n",
    "import pandas as pd\n",
    "import propublica\n",
    "import util\n",
    "import time\n",
    "import IPython\n",
    "\n",
    "from bs4 import BeautifulSoup\n",
    "from selenium import webdriver"
   ]
  },
  {
   "cell_type": "markdown",
   "metadata": {},
   "source": [
    "Scraping process for [propublica.org](https://projects.propublica.org/nonprofits/)"
   ]
  },
  {
   "cell_type": "code",
   "execution_count": 3,
   "metadata": {},
   "outputs": [
    {
     "data": {
      "text/html": [
       "\n",
       "        <iframe\n",
       "            width=\"450\"\n",
       "            height=\"200\"\n",
       "            src=\"data:text/html;charset=utf-8,%3C%21DOCTYPE%20html%3E%0A%0A%3Chtml%20lang%3D%22en%22%20xmlns%3Afb%3D%22http%3A//www.facebook.com/2008/fbml%22%3E%0A%3Chead%20prefix%3D%22og%3A%20http%3A//ogp.me/ns%23%20fb%3A%20http%3A//ogp.me/ns/fb%23%20article%3A%20http%3A//ogp.me/ns/article%23%22%3E%0A%20%20%20%20%3Cmeta%20http-equiv%3D%22X-UA-Compatible%22%20content%3D%22IE%3DEdge%3Bchrome%3D1%22%3E%0A%0A%0A%20%20%20%20%3Cmeta%20http-equiv%3D%22Content-Type%22%20content%3D%22text/html%3B%20charset%3Dutf-8%22%20/%3E%0A%0A%20%20%20%20%3Cscript%3E%0A%20%20%28function%28d%29%20%7B%0A%20%20%20%20var%20config%20%3D%20%7B%0A%20%20%20%20%20%20kitId%3A%20%27npo2pzg%27%2C%0A%20%20%20%20%20%20scriptTimeout%3A%203000%2C%0A%20%20%20%20%20%20async%3A%20true%0A%20%20%20%20%7D%2C%0A%20%20%20%20h%3Dd.documentElement%2Ct%3DsetTimeout%28function%28%29%7Bh.className%3Dh.className.replace%28/%5Cbwf-loading%5Cb/g%2C%22%22%29%2B%22%20wf-inactive%22%3B%7D%2Cconfig.scriptTimeout%29%2Ctk%3Dd.createElement%28%22script%22%29%2Cf%3Dfalse%2Cs%3Dd.getElementsByTagName%28%22script%22%29%5B0%5D%2Ca%3Bh.className%2B%3D%22%20wf-loading%22%3Btk.src%3D%27https%3A//use.typekit.net/%27%2Bconfig.kitId%2B%27.js%27%3Btk.async%3Dtrue%3Btk.onload%3Dtk.onreadystatechange%3Dfunction%28%29%7Ba%3Dthis.readyState%3Bif%28f%7C%7Ca%26%26a%21%3D%22complete%22%26%26a%21%3D%22loaded%22%29return%3Bf%3Dtrue%3BclearTimeout%28t%29%3Btry%7BTypekit.load%28config%29%7Dcatch%28e%29%7B%7D%7D%3Bs.parentNode.insertBefore%28tk%2Cs%29%0A%20%20%7D%29%28document%29%3B%0A%3C/script%3E%0A%20%20%20%20%3Cscript%20type%3D%22text/javascript%22%20src%3D%22//www.propublica.org/js/public/assets/all.js%22%3E%3C/script%3E%20%0A%0A%20%20%0A%20%20%20%20%3Cscript%20type%3D%22text/javascript%22%3Evar%20_sf_startpt%3D%28new%20Date%28%29%29.getTime%28%29%3C/script%3E%0A%20%20%20%20%3Cmeta%20name%3D%22google-site-verification%22%20content%3D%22xPf4zxBdgQHZIRLVMiZyNYR1igMQUhsHogunEnOtD1k%22%20/%3E%0A%0A%20%20%0A%0A%20%20%20%20%3Clink%20rel%3D%22stylesheet%22%20href%3D%22//www.propublica.org/css/960/reset.css%3F1495207717%22%20type%3D%22text/css%22%20media%3D%22all%22%20charset%3D%22utf-8%22%20/%3E%0A%20%20%20%20%3Clink%20rel%3D%22stylesheet%22%20href%3D%22//www.propublica.org/css/960/propublica-text.css%3F1495207717%22%20type%3D%22text/css%22%20media%3D%22all%22%20charset%3D%22utf-8%22%20/%3E%0A%20%20%20%20%3Clink%20rel%3D%22stylesheet%22%20href%3D%22//www.propublica.org/css/master.css%3F1495207717%22%20type%3D%22text/css%22%20media%3D%22screen%22%20charset%3D%22utf-8%22%20/%3E%0A%0A%20%20%20%20%3Clink%20rel%3D%22stylesheet%22%20href%3D%22//www.propublica.org/css/print.css%3F1495207717%22%20type%3D%22text/css%22%20media%3D%22print%22%20charset%3D%22utf-8%22%20/%3E%0A%0A%20%20%20%20%3Clink%20rel%3D%22stylesheet%22%20href%3D%22//www.propublica.org/css/headfoot2011.css%3F1495207717%22%20type%3D%22text/css%22%20media%3D%22all%22%20charset%3D%22utf-8%22%3E%20%0A%0A%20%20%20%20%3C%21--%20adaptive%20--%3E%0A%20%20%20%20%3Cmeta%20name%3D%22viewport%22%20content%3D%22width%3Ddevice-width%22%3E%0A%20%20%20%20%3Clink%20rel%3D%22stylesheet%22%20type%3D%22text/css%22%20media%3D%22screen%20and%20%28max-width%3A%20480px%29%22%20href%3D%22//www.propublica.org/css/woland.css%3F1495207717%22%20charset%3D%22utf-8%22%3E%0A%20%20%20%20%3Clink%20rel%3D%22stylesheet%22%20type%3D%22text/css%22%20href%3D%22//www.propublica.org/css/zoom-fix.css%3F1495207717%22%20charset%3D%22UTF-8%22%3E%0A%20%20%20%20%3C%21--%20%3Clink%20rel%3D%22stylesheet%22%20type%3D%22text/css%22%20media%3D%22screen%20and%20%28max-width%3A%20800px%29%20and%20%28min-width%3A%20481px%29%22%20href%3D%22//www.propublica.org/css/behemoth.css%3F1495207717%22%20charset%3D%22utf-8%22%20/%3E%20--%3E%0A%20%20%20%3C%21--%20/adaptive%20--%3E%0A%0A%20%20%20%20%3C%21--%5Bif%20IE%5D%3E%0A%20%20%20%20%20%20%3Clink%20rel%3D%22stylesheet%22%20href%3D%22//www.propublica.org/css/ie.css%3F1495207717%22%20type%3D%22text/css%22%20media%3D%22screen%22%20charset%3D%22utf-8%22%20/%3E%0A%20%20%20%20%3C%21%5Bendif%5D--%3E%0A%20%20%20%20%3C%21--%5Bif%20IE%207%5D%3E%0A%20%20%20%20%20%20%3Clink%20rel%3D%22stylesheet%22%20href%3D%22//www.propublica.org/css/ie7.css%3F1495207717%22%20type%3D%22text/css%22%20media%3D%22screen%22%20charset%3D%22utf-8%22%20/%3E%0A%20%20%20%20%20%20%3Clink%20rel%3D%22stylesheet%22%20href%3D%22//www.propublica.org/css/ie7-2011.css%3F1495207717%22%20type%3D%22text/css%22%20media%3D%22screen%22%20charset%3D%22utf-8%22%20/%3E%0A%20%20%20%20%3C%21%5Bendif%5D--%3E%0A%20%20%20%20%3C%21--%5Bif%20lt%20IE%207%5D%3E%0A%20%20%20%20%20%20%3Clink%20rel%3D%22stylesheet%22%20href%3D%22//www.propublica.org/css/ie6.css%3F1495207717%22%20type%3D%22text/css%22%20media%3D%22screen%22%20charset%3D%22utf-8%22%20/%3E%0A%20%20%20%20%20%20%3Cscript%20src%3D%22//www.propublica.org/js/DD_belatedPNG_0.0.8a-min.js%22%20type%3D%22text/javascript%22%20charset%3D%22utf-8%22%3E%3C/script%3E%0A%20%20%20%20%20%20%3Cscript%20src%3D%22//www.propublica.org/js/pngfix.js%20type%3D%22text/javascript%22%20charset%3D%22utf-8%22%3E%3C/script%3E%0A%20%20%20%20%3C%21%5Bendif%5D--%3E%0A%3Cscript%20type%3D%22text/javascript%22%20src%3D%22//www.propublica.org/js/public/assets/google_ads_boot.js%22%3E%3C/script%3E%0A%20%20%20%20%3Cscript%20charset%3D%22utf-8%22%3E%0A%20%20%20%20%20%20var%20_sf_async_config%20%3D%20%28window._sf_async_config%20%7C%7C%20%7B%7D%29%3B%0A%20%20%20%20%20%20_sf_async_config.sections%20%3D%20%22news%20apps%22%3B%0A%20%20%20%20%20%20_sf_async_config.domain%20%3D%20%22propublica.org%22%3B%0A%20%20%20%20%3C/script%3E%0A%0A%0A%3Cscript%20type%3D%22text/javascript%22%3E%0A%20%20%20window.dataLayer%20%3D%20%5B%7B%0A%20%20%20%20%20%27contentType%27%3A%20%27App%27%2C%0A%20%20%20%20%20%27publicationDate%27%3A%20%27September%2015%2C%202017%27%2C%0A%20%20%20%20%20%27articleTitle%27%3A%20%27Nonprofit%20Explorer%27%2C%0A%20%20%20%20%20%27authorName%27%3A%20%27Mike%20Tigas%2C%20Sisi%20Wei%2C%20Ken%20Schwencke%2C%20Alec%20Glassford%27%2C%0A%20%20%20%20%20%27seriesName%27%3A%20%27%27%0A%20%20%20%7D%5D%3B%0A%3C/script%3E%0A%3C%21--%20ProPublica%20Typekit%20account%20--%3E%0A%20%20%3Cscript%3E%0A%20%20%20%20%28function%28%29%20%7B%0A%20%20%20%20%20%20var%20config%20%3D%20%7B%0A%20%20%20%20%20%20%20%20kitId%3A%20%27qey1xmz%27%2C%0A%20%20%20%20%20%20%20%20scriptTimeout%3A%203000%0A%20%20%20%20%20%20%7D%3B%0A%20%20%20%20%20%20var%20h%3Ddocument.getElementsByTagName%28%22html%22%29%5B0%5D%3Bh.className%2B%3D%22%20wf-loading%22%3Bvar%20t%3DsetTimeout%28function%28%29%7Bh.className%3Dh.className.replace%28/%28%5Cs%7C%5E%29wf-loading%28%5Cs%7C%24%29/g%2C%22%20%22%29%3Bh.className%2B%3D%22%20wf-inactive%22%7D%2Cconfig.scriptTimeout%29%3Bvar%20tk%3Ddocument.createElement%28%22script%22%29%2Cd%3Dfalse%3Btk.src%3D%27//use.typekit.net/%27%2Bconfig.kitId%2B%27.js%27%3Btk.type%3D%22text/javascript%22%3Btk.async%3D%22true%22%3Btk.onload%3Dtk.onreadystatechange%3Dfunction%28%29%7Bvar%20a%3Dthis.readyState%3Bif%28d%7C%7Ca%26%26a%21%3D%22complete%22%26%26a%21%3D%22loaded%22%29return%3Bd%3Dtrue%3BclearTimeout%28t%29%3Btry%7BTypekit.load%28config%29%7Dcatch%28b%29%7B%7D%7D%3Bvar%20s%3Ddocument.getElementsByTagName%28%22script%22%29%5B0%5D%3Bs.parentNode.insertBefore%28tk%2Cs%29%0A%20%20%20%20%7D%29%28%29%3B%0A%20%20%3C/script%3E%0A%20%20%3Ctitle%3ELafayette%20Swanton%20Tr%20Uw%20For%20Public%20Park%20-%20Nonprofit%20Explorer%20-%20ProPublica%3C/title%3E%0A%20%20%3Clink%20rel%3D%22stylesheet%22%20media%3D%22all%22%20href%3D%22https%3A//static.propublica.org/rails/assets/nonprofits/application-cab5fe2569c7204013bc77e19e00e2f31da6d1476ec252ac32362c09089bd17e.css%22%20/%3E%0A%20%20%3Cscript%20src%3D%22https%3A//static.propublica.org/rails/assets/nonprofits/application-c1f3729f28c8d4b0f831ae0e96e88a6a2496f6ca52b26ecf097779c4652f2c9d.js%22%3E%3C/script%3E%0A%0A%20%20%3C%21--%20print-only%20--%3E%0A%20%20%3Clink%20rel%3D%22stylesheet%22%20href%3D%22https%3A//www.propublica.org/css/print.css%3F1306956202%22%20type%3D%22text/css%22%20media%3D%22print-only%22%20charset%3D%22utf-8%22%20/%3E%0A%0A%20%20%3Cmeta%20name%3D%22viewport%22%20content%3D%22width%3Ddevice-width%2C%20maximum-scale%3D1.6%22%3E%0A%0A%20%20%3Cscript%3E%0A%20%20%20%20RAILS_ENV%20%3D%20%22production%22%3B%0A%20%20%20%20RAILS_ROOT%20%3D%20%22/nonprofits/%22%3B%0A%20%20%20%20PP_SHARING_URL%20%3D%20%22https%3A//projects.propublica.org/nonprofits/%22%0A%20%20%3C/script%3E%0A%0A%20%20%20%20%20%20%3Cmeta%20name%3D%22robots%22%20content%3D%22noindex%2C%20follow%22/%3E%0A%0A%0A%20%20%3Cmeta%20name%3D%22author%22%20content%3D%22Mike%20Tigas%2C%20Sisi%20Wei%2C%20Ken%20Schwencke%2C%20Alec%20Glassford%20ProPublica%22%20/%3E%0A%20%20%3Cmeta%20name%3D%22scope%22%20content%3D%22%22%20/%3E%0A%20%20%3Cmeta%20name%3D%22keywords%22%20content%3D%22nonprofit%20explorer%2C%20990%2C%20990%20filings%2C%20non%20profit%20explorer%2C%20non-profit%20explorer%2C%20research%20non-profits%2C%20non-profit%20data%2C%20non-profit%20pdfs%2C%20irs%20pdfs%2C%20irs%20990s%2C%20irs%20990%2C%20irs%20nonprofit%2C%20irs%20nonprofit%20data%2C%20propublica%20nonprofits%2C%20propublica%20nonprofit%20explorer%2C%20topline%20data%20on%20nonprofits%2C%22%20/%3E%0A%20%20%3Cmeta%20name%3D%22project%22%20content%3D%22%22%20/%3E%0A%20%20%3Cmeta%20name%3D%22type%22%20content%3D%22project%22%20/%3E%0A%20%20%3Cmeta%20name%3D%22description%22%20content%3D%22Since%202013%2C%20the%20IRS%20has%20released%20data%20culled%20from%20over%201.8%20million%20nonprofit%20tax%20filings.%20Use%20this%20database%20to%20find%20organizations%20and%20see%20details%20like%20their%20executive%20compensation%2C%20revenue%20and%20expenses%2C%20as%20well%20as%20download%20tax%20filings%20going%20back%20as%20far%20as%202001.%22%20/%3E%0A%0A%20%20%20%20%3Clink%20rel%3D%22canonical%22%20href%3D%22https%3A//projects.propublica.org/nonprofits/organizations/386225567%22%20/%3E%0A%0A%20%20%3C%21--%20add%20these%20meta%20tags%20for%20facebook%20--%3E%0A%0A%20%20%3Cmeta%20property%3D%22og%3Atitle%22%20content%3D%22Lafayette%20Swanton%20Tr%20Uw%20For%20Public%20Park%20-%20Nonprofit%20Explorer%20-%20ProPublica%22/%3E%0A%20%20%3Cmeta%20property%3D%22og%3Atype%22%20content%3D%22article%22/%3E%0A%20%20%3Cmeta%20property%3D%22og%3Aurl%22%20content%3D%22https%3A//projects.propublica.org/nonprofits/%22/%3E%0A%20%20%3Cmeta%20property%3D%22og%3Aimage%22%20content%3D%22https%3A//www.propublica.org/images/ngen/gypsy_big_image/2015-12-01-vetting-nonprofits-630x420.jpg%22/%3E%0A%20%20%3Cmeta%20property%3D%22og%3Asite_name%22%20content%3D%22ProPublica%22/%3E%0A%20%20%3Cmeta%20property%3D%22fb%3Aadmins%22%20content%3D%22383965056549%22/%3E%0A%20%20%3Cmeta%20property%3D%22fb%3Aapp_id%22%20content%3D%22229862657130557%22/%3E%0A%20%20%3Cmeta%20property%3D%22og%3Adescription%22%20content%3D%22Since%202013%2C%20the%20IRS%20has%20released%20data%20culled%20from%20over%201.8%20million%20nonprofit%20tax%20filings.%20Use%20this%20database%20to%20find%20organizations%20and%20see%20details%20like%20their%20executive%20compensation%2C%20revenue%20and%20expenses%2C%20as%20well%20as%20download%20tax%20filings%20going%20back%20as%20far%20as%202001.%22/%3E%0A%20%20%3Cmeta%20property%3D%22og%3Aarticle%3Apublished_time%22%20content%3D%222013-05-09%22%3E%0A%20%20%3Cmeta%20property%3D%22og%3Aarticle%3Amodified_time%22%20content%3D%222019-04-12%22%3E%0A%0A%20%20%3C%21--%20add%20these%20meta%20tags%20for%20twitter%20--%3E%0A%0A%20%20%3Cmeta%20name%3D%22twitter%3Acreator%22%20content%3D%22%40ProPublica%22%3E%0A%20%20%3Cmeta%20property%3D%22twitter%3Asite%22%20content%3D%22%40ProPublica%22%3E%0A%20%20%3Cmeta%20property%3D%22twitter%3Acard%22%20content%3D%22summary%22%3E%0A%20%20%3Cmeta%20property%3D%22twitter%3Aurl%22%20content%3D%22https%3A//projects.propublica.org/nonprofits/%22%3E%0A%20%20%3Cmeta%20property%3D%22twitter%3Atitle%22%20content%3D%22Lafayette%20Swanton%20Tr%20Uw%20For%20Public%20Park%20-%20Nonprofit%20Explorer%20-%20ProPublica%22%3E%0A%20%20%3Cmeta%20property%3D%22twitter%3Adescription%22%20content%3D%22Since%202013%2C%20the%20IRS%20has%20released%20data%20culled%20from%20over%201.8%20million%20nonprofit%20tax%20filings.%20Use%20this%20database%20to%20find%20organizations%20and%20see%20details%20like%20their%20executive%20compensation%2C%20revenue%20and%20expenses%2C%20as%20well%20as%20download%20tax%20filings%20going%20back%20as%20far%20as%202001.%22%3E%0A%20%20%3Cmeta%20property%3D%22twitter%3Aimage%22%20content%3D%22https%3A//www.propublica.org/images/ngen/gypsy_big_image/2015-12-01-vetting-nonprofits-630x420.jpg%22%3E%0A%0A%20%20%3Cmeta%20name%3D%22thumbnail%22%20content%3D%22https%3A//www.propublica.org/images/ngen/gypsy_big_image/2015-12-01-vetting-nonprofits-630x420.jpg%22%3E%0A%0A%20%20%3Cmeta%20name%3D%22csrf-param%22%20content%3D%22authenticity_token%22%20/%3E%0A%3Cmeta%20name%3D%22csrf-token%22%20content%3D%22gvNWUcYEYV0/IWFV2ijKixsduEhRCD3sLmUFnembWjsUH7xaT5sutiPf4le4MB9rAGiWDtRk3eGjAZs6SiwtDw%3D%3D%22%20/%3E%0A%0A%20%20%3Cscript%20type%3D%22text/javascript%22%3E%0A%20%20%20%28function%28%29%7B%0A%20%20%20%20%20var%20o%20%3D%20function%28it%29%20%7B%20return%20it.replace%28/%5Cs%2B/g%2C%20%22_%22%29%20%7D%3B%0A%20%20%20%20%20googletag.pubads%28%29.setTargeting%28%27project%27%2C%20o%28%27nonprofits%27%29%29%3B%0A%20%20%20%20%20googletag.pubads%28%29.setTargeting%28%27type%27%2C%20%20%20%20o%28%27newsapp%27%29%29%3B%0A%20%20%20%7D%29%28%29%3B%0A%20%20%20%3C/script%3E%0A%20%20%3Cscript%20type%3D%22text/javascript%22%20src%3D%22https%3A//www.propublica.org/js/public/assets/google_ads.js%3F2012101501%22%20charset%3D%22utf-8%22%3E%3C/script%3E%0A%20%20%3Cscript%20type%3D%22text/javascript%22%20src%3D%22//projects.propublica.org/graphics/javascripts/workcomp/socialsnippet.js%22%3E%3C/script%3E%0A%3C/head%3E%0A%3Cbody%20class%3D%22app%20old-page-new-wrapper%22%3E%0A%20%20%3Cscript%20type%3D%22text/javascript%22%20src%3D%22//www.propublica.org/js/public/assets/beacons.js%22%3E%3C/script%3E%0A%20%20%3Cdiv%20class%3D%22c-header%22%3E%0A%20%20%20%20%3Cheader%20role%3D%22banner%22%3E%0A%20%20%20%20%20%20%3Ch1%3E%3Ca%20href%3D%22https%3A//www.propublica.org%22%3EProPublica%3C/a%3E%3C/h1%3E%0A%20%20%20%20%20%20%3Cnav%3E%0A%20%20%20%20%20%20%20%20%3Cul%20class%3D%22tools-nav%22%3E%0A%20%20%20%20%20%20%20%20%20%20%3Cli%20class%3D%22facebook%20social-widget%20ss-fb%22%20data-title%3D%22Nonprofit%20Explorer%22%20data-img%3D%22https%3A//www.propublica.org/images/ngen/gypsy_big_image/2015-12-01-vetting-nonprofits-630x420.jpg%22%20data-txt%3D%22Lafayette%20Swanton%20Tr%20Uw%20For%20Public%20Park%20-%20Nonprofit%20Explorer%22%20data-url%3D%22https%3A//projects.propublica.org/nonprofits/%3Futm_campaign%3Dbt_facebook%26utm_source%3Dfacebook%26utm_medium%3Dsocial%22%20data-hashtag%3D%22%22%3E%3Ca%20href%3D%22%23%22%3EShare%20on%20Facebook%3C/a%3E%3C/li%3E%0A%20%20%20%20%20%20%20%20%20%20%3Cli%20class%3D%22twitter%20social-widget%20ss-tw%22%20data-txt%3D%22Lafayette%20Swanton%20Tr%20Uw%20For%20Public%20Park%20-%20Nonprofit%20Explorer%22%20data-url%3D%22https%3A//projects.propublica.org/nonprofits/%3Futm_campaign%3Dbt_twitter%26utm_source%3Dtwitter%26utm_medium%3Dsocial%22%20data-hashtag%3D%22%22%3E%3Ca%20href%3D%22%23%22%3EShare%20on%20Twitter%3C/a%3E%3C/li%3E%0A%20%20%20%20%20%20%20%20%20%20%3Ca%20href%3D%22https%3A//go.propublica.org/sign-up%22%3E%0A%20%20%20%20%20%20%20%20%20%20%20%20%3Cli%20class%3D%22email-signup%22%3E%0A%20%20%20%20%20%20%20%20%20%20%20%20%20%20%20%20%3Csvg%20class%3D%22icon%22%20width%3D%2220%22%20height%3D%2214%22%3E%0A%20%20%20%20%20%20%20%20%20%20%20%20%20%20%20%20%20%20%20%20%3Cuse%20xmlns%3Axlink%3D%22http%3A//www.w3.org/1999/xlink%22%20xlink%3Ahref%3D%22%23icon-email%22%3E%3C/use%3E%0A%20%20%20%20%20%20%20%20%20%20%20%20%20%20%20%20%20%20%20%20%3Csvg%20id%3D%22icon-email%22%20viewBox%3D%220%200%2024%2024%22%20width%3D%22100%25%22%20height%3D%22100%25%22%3E%0A%20%20%20%20%20%20%20%20%20%20%20%20%20%20%20%20%20%20%20%20%20%20%3Ctitle%3EEmail%3C/title%3E%0A%20%20%20%20%20%20%20%20%20%20%20%20%20%20%20%20%20%20%20%20%20%20%3Cpath%20d%3D%22M12%2C13.5%2C0%2C4.5A1.45%2C1.45%2C0%2C0%2C1%2C.44%2C3.44%2C1.44%2C1.44%2C0%2C0%2C1%2C1.5%2C3h21A1.5%2C1.5%2C0%2C0%2C1%2C24%2C4.5Zm0%2C2.7%2C12-9V19.5A1.5%2C1.5%2C0%2C0%2C1%2C22.5%2C21H1.5a1.44%2C1.44%2C0%2C0%2C1-1.06-.44A1.45%2C1.45%2C0%2C0%2C1%2C0%2C19.5V7.2Z%22%3E%3C/path%3E%0A%20%20%20%20%20%20%20%20%20%20%20%20%20%20%20%20%20%20%3C/svg%3E%0A%20%20%20%20%20%20%20%20%20%20%20%20%20%20%20%20%3C/svg%3E%0A%20%20%20%20%20%20%20%20%20%20%20%20%20%20%20%20%3Cspan%20class%3D%22icon-label%22%3ESign%20Up%3C/span%3E%0A%20%20%20%20%20%20%20%20%20%20%20%20%3C/li%3E%0A%20%20%20%20%20%20%20%20%20%20%3C/a%3E%0A%20%20%20%20%20%20%20%20%20%20%3Cli%20class%3D%22donate%22%3E%3Ca%20href%3D%22https%3A//go.propublica.org/newsappsdonate%22%20target%3D%22_blank%22%3EDonate%3C/a%3E%3C/li%3E%0A%20%20%20%20%20%20%20%20%3C/ul%3E%0A%20%20%20%20%20%20%3C/nav%3E%0A%20%20%20%20%3C/header%3E%0A%20%20%3C/div%3E%0A%0A%3Cdiv%20id%3D%22irs-990%22%20class%3D%22organizations%22%3E%0A%0A%20%20%3Cdiv%20id%3D%22content%22%3E%0A%20%20%20%20%3Cdiv%20class%3D%22wrapper%20wrapper_organizations%20organizations_show%22%3E%0A%20%20%20%20%20%20%3Cdiv%20id%3D%22mini_global_guff_wrapper%22%3E%0A%20%20%20%20%20%20%20%20%3Cdiv%20id%3D%22mini_global_guff%22%3E%0A%20%20%20%20%20%20%20%20%20%20%3Cp%20class%3D%22print-only%22%3EFrom%20%3Cspan%20class%3D%22print-url%22%3Ehttps%3A//projects.propublica.org/nonprofits%3C/span%3E.%20%26copy%3B%20Copyright%202019%20Pro%20Publica%20Inc.%3C/p%3E%0A%20%20%20%20%20%20%20%20%3C/div%3E%0A%20%20%20%20%20%20%3C/div%3E%0A%20%20%20%20%20%20%0A%20%20%20%20%20%20%3Cdiv%20class%3D%22smaller-header%22%3E%0A%20%20%20%20%20%20%20%20%3Ch1%20class%3D%22main-header%22%3E%3Ca%20href%3D%22/nonprofits/%22%3ENonprofit%20Explorer%3C/a%3E%3C/h1%3E%0A%20%20%20%20%20%20%20%20%3Ch4%3EResearch%20Tax-Exempt%20Organizations%3C/h4%3E%0A%20%20%20%20%20%20%3C/div%3E%0A%0A%20%20%20%20%20%20%0A%0A%3Cdiv%20class%3D%22breadcrumbs%22%3E%3C/div%3E%0A%0A%3Cdiv%20class%3D%22left-col%22%3E%0A%20%20%3Ch1%3ELAFAYETTE%20SWANTON%20TR%20UW%20FOR%20PUBLIC%20PARK%3C/h1%3E%0A%20%20%3Cspan%20class%3D%22small-label%22%3EPO%20BOX%203636%2C%20GRAND%20RAPIDS%2C%20MI%2049501-3636%3C/span%3E%20%7C%20%3Cspan%20class%3D%22small-label%20all-caps%22%3ETax-exempt%20since%20Aug.%201983%3C/span%3E%0A%0A%0A%20%20%3Cdiv%20class%3D%22profile-info%22%3E%0A%20%20%20%20%3Cul%3E%0A%20%20%20%20%20%20%3Cli%3E%3Cstrong%3EEIN%3C/strong%3E%3A%2038-6225567%3C/li%3E%0A%20%20%20%20%20%20%0A%0A%0A%20%20%20%20%20%20%3Cli%3E%3Cstrong%3EMore%20Resources%3A%3C/strong%3E%0A%20%20%20%20%20%20%20%20%20%20%3Ca%20class%3D%22guidestar%22%20style%3D%22padding-left%3A.5em%22%20href%3D%22https%3A//www.guidestar.org/organizations/38-6225567/.aspx%22%20target%3D%22_blank%22%3E%3Cimg%20width%3D%229%22%20style%3D%22padding-right%3A4px%3B%22%20src%3D%22https%3A//static.propublica.org/assets/images/arrow.png%22%20alt%3D%22Arrow%22%20/%3EGuideStar%3C/a%3E%0A%20%20%20%20%20%20%3C/li%3E%0A%20%20%20%20%3Cli%3E%3Cstrong%3EGet%20notifications%3A%3C/strong%3E%20%3Ca%20href%3D%22https%3A//go.propublica.org/data-npe%22%3ESign%20up%20for%20updates%20about%20our%20data.%3C/a%3E%3C/li%3E%0A%20%20%20%20%3C/ul%3E%0A%20%20%3C/div%3E%0A%0A%20%20%3Cdiv%20class%3D%22filings%22%3E%0A%0A%20%20%20%20%20%20%20%20%3Ch2%3ETax%20Filings%20by%20Year%3C/h2%3E%0A%20%20%20%20%20%20%20%20%3Cp%3EThe%20IRS%20%3Ca%20href%3D%22https%3A//www.irs.gov/pub/irs-pdf/f990.pdf%22%20target%3D%22_blank%22%3EForm%20990%3C/a%3E%20is%20an%20annual%20information%20return%20that%20most%20organizations%20claiming%20federal%20tax-exempt%20status%20must%20file%20yearly.%20Read%20the%20%3Ca%20href%3D%22https%3A//www.irs.gov/pub/irs-pdf/i990.pdf%22%20target%3D%22_blank%22%3EIRS%20instructions%20for%20990%20forms%3C/a%3E.%3C/p%3E%0A%20%20%20%20%20%20%20%20%3Cp%3EIf%20this%20organization%20has%20filed%20an%20amended%20return%2C%20it%20may%20not%20be%20reflected%20in%20the%20data%20below.%20Duplicated%20download%20links%20may%20be%20due%20to%20resubmissions%20or%20amendments%20to%20an%20organization%27s%20original%20return.%3C/p%3E%0A%20%20%20%20%20%20%20%20%3Cp%20class%3D%22note%22%3EIf%20you%20would%20like%20to%20download%20Form%20990%20document%20PDFs%20in%20bulk%2C%20the%20Internet%20Archive%20operates%20%3Ca%20href%3D%22https%3A//archive.org/details/IRS990%22%3Ea%20mirror%20of%20the%20original%20bulk%20data%3C/a%3E.%3C/p%3E%0A%0A%20%20%20%20%20%20%20%20%20%20%3C%21--%20FILING%20PERIOD%20ONLY%20HAS%20DOCUMENT%20LINKS%20--%3E%0A%20%20%20%20%20%20%20%20%20%20%3Cdiv%20class%3D%22single-filing%20cf%22%3E%0A%20%20%20%20%20%20%20%20%20%20%20%20%3Cdiv%20class%3D%22left-label%22%3E%0A%20%20%3Cspan%20class%3D%22small-label%20mobile-only%22%3EFiscal%20year%20ending%3C/span%3E%0A%20%20%3Ch4%20class%3D%22mobile-only%22%3EOct.%202018%3C/h4%3E%0A%20%20%3Cspan%20class%3D%22small-label%22%3EFiscal%20year%20ending%20Oct.%3C/span%3E%0A%20%20%3Ch4%3E2018%3C/h4%3E%0A%20%20%0A%20%20%0A%20%20%0A%20%20%20%20%20%20%3Cp%20class%3D%22linktype%22%3EFull%20Text%3C/p%3E%0A%20%20%20%20%3Cselect%20class%3D%22action%20fulltext%22%3E%0A%20%20%20%20%20%20%20%20%3Coption%3E990%20%E2%96%BE%3C/option%3E%0A%20%20%20%20%20%20%20%20%3Coptgroup%20label%3D%22990%20%28filed%20on%20March%204%2C%202019%29%22%3E%0A%20%20%20%20%20%20%20%20%20%20%3Coption%20data-href%3D%22/nonprofits/organizations/386225567/201813559349300301/IRS990%22%3EForm%20990%3C/option%3E%0A%20%20%20%20%20%20%20%20%20%20%3Coption%20data-href%3D%22/nonprofits/organizations/386225567/201813559349300301/IRS990ScheduleA%22%3EForm%20990%2C%20Schedule%20A%3C/option%3E%0A%20%20%20%20%20%20%20%20%20%20%3Coption%20data-href%3D%22/nonprofits/organizations/386225567/201813559349300301/IRS990ScheduleI%22%3EForm%20990%2C%20Schedule%20I%3C/option%3E%0A%20%20%20%20%20%20%20%20%20%20%3Coption%20data-href%3D%22/nonprofits/organizations/386225567/201813559349300301/IRS990ScheduleO%22%3EForm%20990%2C%20Schedule%20O%3C/option%3E%0A%20%20%20%20%20%20%20%20%3C/optgroup%3E%0A%20%20%20%20%3C/select%3E%0A%20%20%3Cp%20class%3D%22linktype%22%3ERaw%20XML%3C/p%3E%0A%0A%20%20%20%20%3Ca%20class%3D%22action%20xml%22%20href%3D%22https%3A//s3.amazonaws.com/irs-form-990/201813559349300301_public.xml%22%20target%3D%22_blank%22%3E990%3C/a%3E%0A%0A%3C/div%3E%0A%0A%20%20%20%20%20%20%20%20%20%20%20%20%3Cdiv%20class%3D%22right-content%22%20style%3D%22max-width%3A%20465px%22%3E%0A%20%20%20%20%20%20%20%20%20%20%20%20%20%20%20%20%3Cp%3E%3Cb%3EForm%20990%20documents%20available%3C/b%3E%3C/p%3E%0A%20%20%20%20%20%20%20%20%20%20%20%20%20%20%20%20%3Cp%3EExtracted%20filing%20data%20is%20not%20available%20for%20this%20tax%20period%2C%20but%20Form%20990%20documents%20are%20available%20for%20download.%3C/p%3E%0A%20%20%20%20%20%20%20%20%20%20%20%20%3C/div%3E%0A%20%20%20%20%20%20%20%20%20%20%3C/div%3E%0A%20%20%20%20%20%20%20%20%20%20%3Cdiv%20class%3D%22right-content%20banner%22%3E%0A%20%20%20%20%20%20%20%20%20%20%20%20%3Cp%3E%3Cb%3EHelp%20Keep%20Nonprofit%20Explorer%20Free%21%3C/b%3E%3C/p%3E%0A%20%20%20%20%20%20%20%20%20%20%20%20%3Cp%3EIf%20you%20have%20used%20our%20data%20or%20site%20in%20your%20research%20or%20reporting%2C%20add%20credit%20and%20a%20link%20to%20Nonprofit%20Explorer%20in%20your%20story%20or%20publication%20and%20%3Ca%20href%3D%22/cdn-cgi/l/email-protection%23c688a9a896b4a9a0afb283beb6aaa9b4a3b486b6b4a9b6b3a4aaafa5a7e8a9b4a1f9b5b3a4aca3a5b2fb88a9a8b6b4a9a0afb2e683beb6aaa9b4a3b4e6a5afb2a7b2afa9a8%22%3Elet%20us%20know%3C/a%3E.%3C/p%3E%0A%20%20%20%20%20%20%20%20%20%20%3C/div%3E%0A%20%20%20%20%20%20%20%20%20%20%20%20%20%20%3C%21--%20FILING%20PERIOD%20ONLY%20HAS%20DOCUMENT%20LINKS%20--%3E%0A%20%20%20%20%20%20%20%20%20%20%3Cdiv%20class%3D%22single-filing%20cf%22%3E%0A%20%20%20%20%20%20%20%20%20%20%20%20%3Cdiv%20class%3D%22left-label%22%3E%0A%20%20%3Cspan%20class%3D%22small-label%20mobile-only%22%3EFiscal%20year%20ending%3C/span%3E%0A%20%20%3Ch4%20class%3D%22mobile-only%22%3EOct.%202017%3C/h4%3E%0A%20%20%3Cspan%20class%3D%22small-label%22%3EFiscal%20year%20ending%20Oct.%3C/span%3E%0A%20%20%3Ch4%3E2017%3C/h4%3E%0A%20%20%0A%20%20%0A%20%20%0A%20%20%20%20%20%20%3Cp%20class%3D%22linktype%22%3EFull%20Text%3C/p%3E%0A%20%20%20%20%3Cselect%20class%3D%22action%20fulltext%22%3E%0A%20%20%20%20%20%20%20%20%3Coption%3E990%20%E2%96%BE%3C/option%3E%0A%20%20%20%20%20%20%20%20%3Coptgroup%20label%3D%22990%20%28filed%20on%20Jan.%204%2C%202018%29%22%3E%0A%20%20%20%20%20%20%20%20%20%20%3Coption%20data-href%3D%22/nonprofits/organizations/386225567/201703419349300950/IRS990%22%3EForm%20990%3C/option%3E%0A%20%20%20%20%20%20%20%20%20%20%3Coption%20data-href%3D%22/nonprofits/organizations/386225567/201703419349300950/IRS990ScheduleA%22%3EForm%20990%2C%20Schedule%20A%3C/option%3E%0A%20%20%20%20%20%20%20%20%20%20%3Coption%20data-href%3D%22/nonprofits/organizations/386225567/201703419349300950/IRS990ScheduleI%22%3EForm%20990%2C%20Schedule%20I%3C/option%3E%0A%20%20%20%20%20%20%20%20%20%20%3Coption%20data-href%3D%22/nonprofits/organizations/386225567/201703419349300950/IRS990ScheduleO%22%3EForm%20990%2C%20Schedule%20O%3C/option%3E%0A%20%20%20%20%20%20%20%20%3C/optgroup%3E%0A%20%20%20%20%3C/select%3E%0A%20%20%3Cp%20class%3D%22linktype%22%3ERaw%20XML%3C/p%3E%0A%0A%20%20%20%20%3Ca%20class%3D%22action%20xml%22%20href%3D%22https%3A//s3.amazonaws.com/irs-form-990/201703419349300950_public.xml%22%20target%3D%22_blank%22%3E990%3C/a%3E%0A%0A%3C/div%3E%0A%0A%20%20%20%20%20%20%20%20%20%20%20%20%3Cdiv%20class%3D%22right-content%22%20style%3D%22max-width%3A%20465px%22%3E%0A%20%20%20%20%20%20%20%20%20%20%20%20%20%20%20%20%3Cp%3E%3Cb%3EForm%20990%20documents%20available%3C/b%3E%3C/p%3E%0A%20%20%20%20%20%20%20%20%20%20%20%20%20%20%20%20%3Cp%3EExtracted%20filing%20data%20is%20not%20available%20for%20this%20tax%20period%2C%20but%20Form%20990%20documents%20are%20available%20for%20download.%3C/p%3E%0A%20%20%20%20%20%20%20%20%20%20%20%20%3C/div%3E%0A%20%20%20%20%20%20%20%20%20%20%3C/div%3E%0A%20%20%20%20%20%20%20%20%20%20%20%20%20%20%3C%21--%20FILING%20PERIOD%20ONLY%20HAS%20DOCUMENT%20LINKS%20--%3E%0A%20%20%20%20%20%20%20%20%20%20%3Cdiv%20class%3D%22single-filing%20cf%22%3E%0A%20%20%20%20%20%20%20%20%20%20%20%20%3Cdiv%20class%3D%22left-label%22%3E%0A%20%20%3Cspan%20class%3D%22small-label%20mobile-only%22%3EFiscal%20year%20ending%3C/span%3E%0A%20%20%3Ch4%20class%3D%22mobile-only%22%3EOct.%202016%3C/h4%3E%0A%20%20%3Cspan%20class%3D%22small-label%22%3EFiscal%20year%20ending%20Oct.%3C/span%3E%0A%20%20%3Ch4%3E2016%3C/h4%3E%0A%20%20%3Cp%20class%3D%22linktype%22%3EPDF%3C/p%3E%0A%20%20%20%20%20%20%3Ca%20class%3D%22action%22%20href%3D%22/nonprofits/display_990/386225567/2017_04_EO%252F38-6225567_990O_201610%22%20%3E%0A%20%20%20%20%20%20IRS%20Filing%0A%20%20%20%20%3C/a%3E%0A%20%20%20%20%3Cdiv%20class%3D%22clear%20mobile-only%22%3E%3C/div%3E%0A%0A%20%20%0A%20%20%20%20%20%20%3Cp%20class%3D%22linktype%22%3EFull%20Text%3C/p%3E%0A%20%20%20%20%3Cselect%20class%3D%22action%20fulltext%22%3E%0A%20%20%20%20%20%20%20%20%3Coption%3E990%20%E2%96%BE%3C/option%3E%0A%20%20%20%20%20%20%20%20%3Coptgroup%20label%3D%22990%20%28filed%20on%20April%2018%2C%202017%29%22%3E%0A%20%20%20%20%20%20%20%20%20%20%3Coption%20data-href%3D%22/nonprofits/organizations/386225567/201603449349300105/IRS990%22%3EForm%20990%3C/option%3E%0A%20%20%20%20%20%20%20%20%20%20%3Coption%20data-href%3D%22/nonprofits/organizations/386225567/201603449349300105/IRS990ScheduleA%22%3EForm%20990%2C%20Schedule%20A%3C/option%3E%0A%20%20%20%20%20%20%20%20%20%20%3Coption%20data-href%3D%22/nonprofits/organizations/386225567/201603449349300105/IRS990ScheduleI%22%3EForm%20990%2C%20Schedule%20I%3C/option%3E%0A%20%20%20%20%20%20%20%20%20%20%3Coption%20data-href%3D%22/nonprofits/organizations/386225567/201603449349300105/IRS990ScheduleO%22%3EForm%20990%2C%20Schedule%20O%3C/option%3E%0A%20%20%20%20%20%20%20%20%3C/optgroup%3E%0A%20%20%20%20%3C/select%3E%0A%20%20%3Cp%20class%3D%22linktype%22%3ERaw%20XML%3C/p%3E%0A%0A%20%20%20%20%3Ca%20class%3D%22action%20xml%22%20href%3D%22https%3A//s3.amazonaws.com/irs-form-990/201603449349300105_public.xml%22%20target%3D%22_blank%22%3E990%3C/a%3E%0A%0A%3C/div%3E%0A%0A%20%20%20%20%20%20%20%20%20%20%20%20%3Cdiv%20class%3D%22right-content%22%20style%3D%22max-width%3A%20465px%22%3E%0A%20%20%20%20%20%20%20%20%20%20%20%20%20%20%20%20%3Cp%3E%3Cb%3EForm%20990%20documents%20available%3C/b%3E%3C/p%3E%0A%20%20%20%20%20%20%20%20%20%20%20%20%20%20%20%20%3Cp%3EExtracted%20filing%20data%20is%20not%20available%20for%20this%20tax%20period%2C%20but%20Form%20990%20documents%20are%20available%20for%20download.%3C/p%3E%0A%20%20%20%20%20%20%20%20%20%20%20%20%3C/div%3E%0A%20%20%20%20%20%20%20%20%20%20%3C/div%3E%0A%20%20%20%20%20%20%20%20%20%20%20%20%20%20%3C%21--%20FILING%20PERIOD%20ONLY%20HAS%20DOCUMENT%20LINKS%20--%3E%0A%20%20%20%20%20%20%20%20%20%20%3Cdiv%20class%3D%22single-filing%20cf%22%3E%0A%20%20%20%20%20%20%20%20%20%20%20%20%3Cdiv%20class%3D%22left-label%22%3E%0A%20%20%3Cspan%20class%3D%22small-label%20mobile-only%22%3EFiscal%20year%20ending%3C/span%3E%0A%20%20%3Ch4%20class%3D%22mobile-only%22%3EOct.%202015%3C/h4%3E%0A%20%20%3Cspan%20class%3D%22small-label%22%3EFiscal%20year%20ending%20Oct.%3C/span%3E%0A%20%20%3Ch4%3E2015%3C/h4%3E%0A%20%20%3Cp%20class%3D%22linktype%22%3EPDF%3C/p%3E%0A%20%20%20%20%20%20%3Ca%20class%3D%22action%22%20href%3D%22/nonprofits/display_990/386225567/2016_02_EO%252F38-6225567_990O_201510%22%20%3E%0A%20%20%20%20%20%20IRS%20Filing%0A%20%20%20%20%3C/a%3E%0A%20%20%20%20%3Cdiv%20class%3D%22clear%20mobile-only%22%3E%3C/div%3E%0A%0A%20%20%0A%20%20%0A%3C/div%3E%0A%0A%20%20%20%20%20%20%20%20%20%20%20%20%3Cdiv%20class%3D%22right-content%22%20style%3D%22max-width%3A%20465px%22%3E%0A%20%20%20%20%20%20%20%20%20%20%20%20%20%20%20%20%3Cp%3E%3Cb%3EForm%20990%20documents%20available%3C/b%3E%3C/p%3E%0A%20%20%20%20%20%20%20%20%20%20%20%20%20%20%20%20%3Cp%3EExtracted%20filing%20data%20is%20not%20available%20for%20this%20tax%20period%2C%20but%20Form%20990%20documents%20are%20available%20for%20download.%3C/p%3E%0A%20%20%20%20%20%20%20%20%20%20%20%20%3C/div%3E%0A%20%20%20%20%20%20%20%20%20%20%3C/div%3E%0A%20%20%20%20%20%20%20%20%20%20%20%20%20%20%3C%21--%20FILING%20PERIOD%20ONLY%20HAS%20DOCUMENT%20LINKS%20--%3E%0A%20%20%20%20%20%20%20%20%20%20%3Cdiv%20class%3D%22single-filing%20cf%22%3E%0A%20%20%20%20%20%20%20%20%20%20%20%20%3Cdiv%20class%3D%22left-label%22%3E%0A%20%20%3Cspan%20class%3D%22small-label%20mobile-only%22%3EFiscal%20year%20ending%3C/span%3E%0A%20%20%3Ch4%20class%3D%22mobile-only%22%3EOct.%202014%3C/h4%3E%0A%20%20%3Cspan%20class%3D%22small-label%22%3EFiscal%20year%20ending%20Oct.%3C/span%3E%0A%20%20%3Ch4%3E2014%3C/h4%3E%0A%20%20%3Cp%20class%3D%22linktype%22%3EPDF%3C/p%3E%0A%20%20%20%20%20%20%3Ca%20class%3D%22action%22%20href%3D%22/nonprofits/display_990/386225567/2014_12_EO%252F38-6225567_990O_201410%22%20%3E%0A%20%20%20%20%20%20IRS%20Filing%0A%20%20%20%20%3C/a%3E%0A%20%20%20%20%3Cdiv%20class%3D%22clear%20mobile-only%22%3E%3C/div%3E%0A%0A%20%20%0A%20%20%20%20%20%20%3Cp%20class%3D%22linktype%22%3EFull%20Text%3C/p%3E%0A%20%20%20%20%3Cselect%20class%3D%22action%20fulltext%22%3E%0A%20%20%20%20%20%20%20%20%3Coption%3E990%20%E2%96%BE%3C/option%3E%0A%20%20%20%20%20%20%20%20%3Coptgroup%20label%3D%22990%20%28filed%20on%20Dec.%2029%2C%202014%29%22%3E%0A%20%20%20%20%20%20%20%20%20%20%3Coption%20data-href%3D%22/nonprofits/organizations/386225567/201413449349300326/IRS990%22%3EForm%20990%3C/option%3E%0A%20%20%20%20%20%20%20%20%20%20%3Coption%20data-href%3D%22/nonprofits/organizations/386225567/201413449349300326/IRS990ScheduleA%22%3EForm%20990%2C%20Schedule%20A%3C/option%3E%0A%20%20%20%20%20%20%20%20%20%20%3Coption%20data-href%3D%22/nonprofits/organizations/386225567/201413449349300326/IRS990ScheduleI%22%3EForm%20990%2C%20Schedule%20I%3C/option%3E%0A%20%20%20%20%20%20%20%20%20%20%3Coption%20data-href%3D%22/nonprofits/organizations/386225567/201413449349300326/IRS990ScheduleO%22%3EForm%20990%2C%20Schedule%20O%3C/option%3E%0A%20%20%20%20%20%20%20%20%3C/optgroup%3E%0A%20%20%20%20%3C/select%3E%0A%20%20%3Cp%20class%3D%22linktype%22%3ERaw%20XML%3C/p%3E%0A%0A%20%20%20%20%3Ca%20class%3D%22action%20xml%22%20href%3D%22https%3A//s3.amazonaws.com/irs-form-990/201413449349300326_public.xml%22%20target%3D%22_blank%22%3E990%3C/a%3E%0A%0A%3C/div%3E%0A%0A%20%20%20%20%20%20%20%20%20%20%20%20%3Cdiv%20class%3D%22right-content%22%20style%3D%22max-width%3A%20465px%22%3E%0A%20%20%20%20%20%20%20%20%20%20%20%20%20%20%20%20%3Cp%3E%3Cb%3EForm%20990%20documents%20available%3C/b%3E%3C/p%3E%0A%20%20%20%20%20%20%20%20%20%20%20%20%20%20%20%20%3Cp%3EExtracted%20filing%20data%20is%20not%20available%20for%20this%20tax%20period%2C%20but%20Form%20990%20documents%20are%20available%20for%20download.%3C/p%3E%0A%20%20%20%20%20%20%20%20%20%20%20%20%3C/div%3E%0A%20%20%20%20%20%20%20%20%20%20%3C/div%3E%0A%20%20%20%20%20%20%20%20%20%20%20%20%20%20%3C%21--%20FILING%20PERIOD%20ONLY%20HAS%20DOCUMENT%20LINKS%20--%3E%0A%20%20%20%20%20%20%20%20%20%20%3Cdiv%20class%3D%22single-filing%20cf%22%3E%0A%20%20%20%20%20%20%20%20%20%20%20%20%3Cdiv%20class%3D%22left-label%22%3E%0A%20%20%3Cspan%20class%3D%22small-label%20mobile-only%22%3EFiscal%20year%20ending%3C/span%3E%0A%20%20%3Ch4%20class%3D%22mobile-only%22%3EOct.%202013%3C/h4%3E%0A%20%20%3Cspan%20class%3D%22small-label%22%3EFiscal%20year%20ending%20Oct.%3C/span%3E%0A%20%20%3Ch4%3E2013%3C/h4%3E%0A%20%20%3Cp%20class%3D%22linktype%22%3EPDF%3C/p%3E%0A%20%20%20%20%20%20%3Ca%20class%3D%22action%22%20href%3D%22/nonprofits/display_990/386225567/2014_03_EO%252F38-6225567_990O_201310%22%20%3E%0A%20%20%20%20%20%20IRS%20Filing%0A%20%20%20%20%3C/a%3E%0A%20%20%20%20%3Cdiv%20class%3D%22clear%20mobile-only%22%3E%3C/div%3E%0A%0A%20%20%0A%20%20%20%20%3Cp%20class%3D%22linktype%22%3ERaw%20XML%3C/p%3E%0A%0A%20%20%20%20%3Ca%20class%3D%22action%20xml%22%20href%3D%22https%3A//s3.amazonaws.com/irs-form-990/201430179349300608_public.xml%22%20target%3D%22_blank%22%3E990%3C/a%3E%0A%0A%3C/div%3E%0A%0A%20%20%20%20%20%20%20%20%20%20%20%20%3Cdiv%20class%3D%22right-content%22%20style%3D%22max-width%3A%20465px%22%3E%0A%20%20%20%20%20%20%20%20%20%20%20%20%20%20%20%20%3Cp%3E%3Cb%3EForm%20990%20documents%20available%3C/b%3E%3C/p%3E%0A%20%20%20%20%20%20%20%20%20%20%20%20%20%20%20%20%3Cp%3EExtracted%20filing%20data%20is%20not%20available%20for%20this%20tax%20period%2C%20but%20Form%20990%20documents%20are%20available%20for%20download.%3C/p%3E%0A%20%20%20%20%20%20%20%20%20%20%20%20%3C/div%3E%0A%20%20%20%20%20%20%20%20%20%20%3C/div%3E%0A%20%20%20%20%20%20%20%20%20%20%20%20%20%20%3C%21--%20FILING%20PERIOD%20ONLY%20HAS%20DOCUMENT%20LINKS%20--%3E%0A%20%20%20%20%20%20%20%20%20%20%3Cdiv%20class%3D%22single-filing%20cf%22%3E%0A%20%20%20%20%20%20%20%20%20%20%20%20%3Cdiv%20class%3D%22left-label%22%3E%0A%20%20%3Cspan%20class%3D%22small-label%20mobile-only%22%3EFiscal%20year%20ending%3C/span%3E%0A%20%20%3Ch4%20class%3D%22mobile-only%22%3EOct.%202012%3C/h4%3E%0A%20%20%3Cspan%20class%3D%22small-label%22%3EFiscal%20year%20ending%20Oct.%3C/span%3E%0A%20%20%3Ch4%3E2012%3C/h4%3E%0A%20%20%3Cp%20class%3D%22linktype%22%3EPDF%3C/p%3E%0A%20%20%20%20%20%20%3Ca%20class%3D%22action%22%20href%3D%22/nonprofits/display_990/386225567/2012_12_EO%252F38-6225567_990O_201210%22%20%3E%0A%20%20%20%20%20%20IRS%20Filing%0A%20%20%20%20%3C/a%3E%0A%20%20%20%20%3Cdiv%20class%3D%22clear%20mobile-only%22%3E%3C/div%3E%0A%0A%20%20%0A%20%20%20%20%3Cp%20class%3D%22linktype%22%3ERaw%20XML%3C/p%3E%0A%0A%20%20%20%20%3Ca%20class%3D%22action%20xml%22%20href%3D%22https%3A//s3.amazonaws.com/irs-form-990/201213409349300531_public.xml%22%20target%3D%22_blank%22%3E990%3C/a%3E%0A%0A%3C/div%3E%0A%0A%20%20%20%20%20%20%20%20%20%20%20%20%3Cdiv%20class%3D%22right-content%22%20style%3D%22max-width%3A%20465px%22%3E%0A%20%20%20%20%20%20%20%20%20%20%20%20%20%20%20%20%3Cp%3E%3Cb%3EForm%20990%20documents%20available%3C/b%3E%3C/p%3E%0A%20%20%20%20%20%20%20%20%20%20%20%20%20%20%20%20%3Cp%3EExtracted%20filing%20data%20is%20not%20available%20for%20this%20tax%20period%2C%20but%20Form%20990%20documents%20are%20available%20for%20download.%3C/p%3E%0A%20%20%20%20%20%20%20%20%20%20%20%20%3C/div%3E%0A%20%20%20%20%20%20%20%20%20%20%3C/div%3E%0A%20%20%20%20%20%20%20%20%20%20%20%20%20%20%3C%21--%20FILING%20PERIOD%20ONLY%20HAS%20DOCUMENT%20LINKS%20--%3E%0A%20%20%20%20%20%20%20%20%20%20%3Cdiv%20class%3D%22single-filing%20cf%22%3E%0A%20%20%20%20%20%20%20%20%20%20%20%20%3Cdiv%20class%3D%22left-label%22%3E%0A%20%20%3Cspan%20class%3D%22small-label%20mobile-only%22%3EFiscal%20year%20ending%3C/span%3E%0A%20%20%3Ch4%20class%3D%22mobile-only%22%3EOct.%202011%3C/h4%3E%0A%20%20%3Cspan%20class%3D%22small-label%22%3EFiscal%20year%20ending%20Oct.%3C/span%3E%0A%20%20%3Ch4%3E2011%3C/h4%3E%0A%20%20%3Cp%20class%3D%22linktype%22%3EPDF%3C/p%3E%0A%20%20%20%20%20%20%3Ca%20class%3D%22action%22%20href%3D%22/nonprofits/display_990/386225567/2012_01_EO%252F38-6225567_990O_201110%22%20%3E%0A%20%20%20%20%20%20IRS%20Filing%0A%20%20%20%20%3C/a%3E%0A%20%20%20%20%3Cdiv%20class%3D%22clear%20mobile-only%22%3E%3C/div%3E%0A%0A%20%20%0A%20%20%20%20%3Cp%20class%3D%22linktype%22%3ERaw%20XML%3C/p%3E%0A%0A%20%20%20%20%3Ca%20class%3D%22action%20xml%22%20href%3D%22https%3A//s3.amazonaws.com/irs-form-990/201143349349300804_public.xml%22%20target%3D%22_blank%22%3E990%3C/a%3E%0A%0A%3C/div%3E%0A%0A%20%20%20%20%20%20%20%20%20%20%20%20%3Cdiv%20class%3D%22right-content%22%20style%3D%22max-width%3A%20465px%22%3E%0A%20%20%20%20%20%20%20%20%20%20%20%20%20%20%20%20%3Cp%3E%3Cb%3EForm%20990%20documents%20available%3C/b%3E%3C/p%3E%0A%20%20%20%20%20%20%20%20%20%20%20%20%20%20%20%20%3Cp%3EExtracted%20filing%20data%20is%20not%20available%20for%20this%20tax%20period%2C%20but%20Form%20990%20documents%20are%20available%20for%20download.%3C/p%3E%0A%20%20%20%20%20%20%20%20%20%20%20%20%3C/div%3E%0A%20%20%20%20%20%20%20%20%20%20%3C/div%3E%0A%20%20%20%20%20%20%20%20%20%20%20%20%20%20%3C%21--%20FILING%20PERIOD%20ONLY%20HAS%20DOCUMENT%20LINKS%20--%3E%0A%20%20%20%20%20%20%20%20%20%20%3Cdiv%20class%3D%22single-filing%20cf%22%3E%0A%20%20%20%20%20%20%20%20%20%20%20%20%3Cdiv%20class%3D%22left-label%22%3E%0A%20%20%3Cspan%20class%3D%22small-label%20mobile-only%22%3EFiscal%20year%20ending%3C/span%3E%0A%20%20%3Ch4%20class%3D%22mobile-only%22%3EOct.%202010%3C/h4%3E%0A%20%20%3Cspan%20class%3D%22small-label%22%3EFiscal%20year%20ending%20Oct.%3C/span%3E%0A%20%20%3Ch4%3E2010%3C/h4%3E%0A%20%20%3Cp%20class%3D%22linktype%22%3EPDF%3C/p%3E%0A%20%20%20%20%20%20%3Ca%20class%3D%22action%22%20href%3D%22/nonprofits/display_990/386225567/2011_01_EO%252F38-6225567_990O_201010%22%20%3E%0A%20%20%20%20%20%20IRS%20Filing%0A%20%20%20%20%3C/a%3E%0A%20%20%20%20%3Cdiv%20class%3D%22clear%20mobile-only%22%3E%3C/div%3E%0A%0A%20%20%0A%20%20%0A%3C/div%3E%0A%0A%20%20%20%20%20%20%20%20%20%20%20%20%3Cdiv%20class%3D%22right-content%22%20style%3D%22max-width%3A%20465px%22%3E%0A%20%20%20%20%20%20%20%20%20%20%20%20%20%20%20%20%3Cp%3E%3Cb%3EForm%20990%20documents%20available%3C/b%3E%3C/p%3E%0A%20%20%20%20%20%20%20%20%20%20%20%20%20%20%20%20%3Cp%3EExtracted%20filing%20data%20is%20not%20available%20for%20this%20tax%20period%2C%20but%20Form%20990%20documents%20are%20available%20for%20download.%3C/p%3E%0A%20%20%20%20%20%20%20%20%20%20%20%20%3C/div%3E%0A%20%20%20%20%20%20%20%20%20%20%3C/div%3E%0A%20%20%20%20%20%20%20%20%20%20%20%20%20%20%3C%21--%20FILING%20PERIOD%20ONLY%20HAS%20DOCUMENT%20LINKS%20--%3E%0A%20%20%20%20%20%20%20%20%20%20%3Cdiv%20class%3D%22single-filing%20cf%22%3E%0A%20%20%20%20%20%20%20%20%20%20%20%20%3Cdiv%20class%3D%22left-label%22%3E%0A%20%20%3Cspan%20class%3D%22small-label%20mobile-only%22%3EFiscal%20year%20ending%3C/span%3E%0A%20%20%3Ch4%20class%3D%22mobile-only%22%3EOct.%202009%3C/h4%3E%0A%20%20%3Cspan%20class%3D%22small-label%22%3EFiscal%20year%20ending%20Oct.%3C/span%3E%0A%20%20%3Ch4%3E2009%3C/h4%3E%0A%20%20%3Cp%20class%3D%22linktype%22%3EPDF%3C/p%3E%0A%20%20%20%20%20%20%3Ca%20class%3D%22action%22%20href%3D%22/nonprofits/display_990/386225567/2010_03_EO%252F38-6225567_990O_200910%22%20%3E%0A%20%20%20%20%20%20IRS%20Filing%0A%20%20%20%20%3C/a%3E%0A%20%20%20%20%3Cdiv%20class%3D%22clear%20mobile-only%22%3E%3C/div%3E%0A%0A%20%20%0A%20%20%0A%3C/div%3E%0A%0A%20%20%20%20%20%20%20%20%20%20%20%20%3Cdiv%20class%3D%22right-content%22%20style%3D%22max-width%3A%20465px%22%3E%0A%20%20%20%20%20%20%20%20%20%20%20%20%20%20%20%20%3Cp%3E%3Cb%3EForm%20990%20documents%20available%3C/b%3E%3C/p%3E%0A%20%20%20%20%20%20%20%20%20%20%20%20%20%20%20%20%3Cp%3EExtracted%20filing%20data%20is%20not%20available%20for%20this%20tax%20period%2C%20but%20Form%20990%20documents%20are%20available%20for%20download.%3C/p%3E%0A%20%20%20%20%20%20%20%20%20%20%20%20%3C/div%3E%0A%20%20%20%20%20%20%20%20%20%20%3C/div%3E%0A%20%20%20%20%20%20%20%20%20%20%20%20%20%20%3C%21--%20FILING%20PERIOD%20ONLY%20HAS%20DOCUMENT%20LINKS%20--%3E%0A%20%20%20%20%20%20%20%20%20%20%3Cdiv%20class%3D%22single-filing%20cf%22%3E%0A%20%20%20%20%20%20%20%20%20%20%20%20%3Cdiv%20class%3D%22left-label%22%3E%0A%20%20%3Cspan%20class%3D%22small-label%20mobile-only%22%3EFiscal%20year%20ending%3C/span%3E%0A%20%20%3Ch4%20class%3D%22mobile-only%22%3EOct.%202008%3C/h4%3E%0A%20%20%3Cspan%20class%3D%22small-label%22%3EFiscal%20year%20ending%20Oct.%3C/span%3E%0A%20%20%3Ch4%3E2008%3C/h4%3E%0A%20%20%3Cp%20class%3D%22linktype%22%3EPDF%3C/p%3E%0A%20%20%20%20%20%20%3Ca%20class%3D%22action%22%20href%3D%22/nonprofits/display_990/386225567/2009_02_EO%252F38-6225567_990O_200810%22%20%3E%0A%20%20%20%20%20%20IRS%20Filing%0A%20%20%20%20%3C/a%3E%0A%20%20%20%20%3Cdiv%20class%3D%22clear%20mobile-only%22%3E%3C/div%3E%0A%0A%20%20%0A%20%20%0A%3C/div%3E%0A%0A%20%20%20%20%20%20%20%20%20%20%20%20%3Cdiv%20class%3D%22right-content%22%20style%3D%22max-width%3A%20465px%22%3E%0A%20%20%20%20%20%20%20%20%20%20%20%20%20%20%20%20%3Cp%3E%3Cb%3EForm%20990%20documents%20available%3C/b%3E%3C/p%3E%0A%20%20%20%20%20%20%20%20%20%20%20%20%20%20%20%20%3Cp%3EExtracted%20filing%20data%20is%20not%20available%20for%20this%20tax%20period%2C%20but%20Form%20990%20documents%20are%20available%20for%20download.%3C/p%3E%0A%20%20%20%20%20%20%20%20%20%20%20%20%3C/div%3E%0A%20%20%20%20%20%20%20%20%20%20%3C/div%3E%0A%20%20%20%20%20%20%20%20%20%20%20%20%20%20%3C%21--%20FILING%20PERIOD%20ONLY%20HAS%20DOCUMENT%20LINKS%20--%3E%0A%20%20%20%20%20%20%20%20%20%20%3Cdiv%20class%3D%22single-filing%20cf%22%3E%0A%20%20%20%20%20%20%20%20%20%20%20%20%3Cdiv%20class%3D%22left-label%22%3E%0A%20%20%3Cspan%20class%3D%22small-label%20mobile-only%22%3EFiscal%20year%20ending%3C/span%3E%0A%20%20%3Ch4%20class%3D%22mobile-only%22%3EOct.%202007%3C/h4%3E%0A%20%20%3Cspan%20class%3D%22small-label%22%3EFiscal%20year%20ending%20Oct.%3C/span%3E%0A%20%20%3Ch4%3E2007%3C/h4%3E%0A%20%20%3Cp%20class%3D%22linktype%22%3EPDF%3C/p%3E%0A%20%20%20%20%20%20%3Ca%20class%3D%22action%22%20href%3D%22/nonprofits/display_990/386225567/2008_07_EO%252F38-6225567_990O_200710%22%20%3E%0A%20%20%20%20%20%20IRS%20Filing%0A%20%20%20%20%3C/a%3E%0A%20%20%20%20%3Cdiv%20class%3D%22clear%20mobile-only%22%3E%3C/div%3E%0A%0A%20%20%0A%20%20%0A%3C/div%3E%0A%0A%20%20%20%20%20%20%20%20%20%20%20%20%3Cdiv%20class%3D%22right-content%22%20style%3D%22max-width%3A%20465px%22%3E%0A%20%20%20%20%20%20%20%20%20%20%20%20%20%20%20%20%3Cp%3E%3Cb%3EForm%20990%20documents%20available%3C/b%3E%3C/p%3E%0A%20%20%20%20%20%20%20%20%20%20%20%20%20%20%20%20%3Cp%3EExtracted%20filing%20data%20is%20not%20available%20for%20this%20tax%20period%2C%20but%20Form%20990%20documents%20are%20available%20for%20download.%3C/p%3E%0A%20%20%20%20%20%20%20%20%20%20%20%20%3C/div%3E%0A%20%20%20%20%20%20%20%20%20%20%3C/div%3E%0A%20%20%20%20%20%20%20%20%20%20%20%20%20%20%3C%21--%20FILING%20PERIOD%20ONLY%20HAS%20DOCUMENT%20LINKS%20--%3E%0A%20%20%20%20%20%20%20%20%20%20%3Cdiv%20class%3D%22single-filing%20cf%22%3E%0A%20%20%20%20%20%20%20%20%20%20%20%20%3Cdiv%20class%3D%22left-label%22%3E%0A%20%20%3Cspan%20class%3D%22small-label%20mobile-only%22%3EFiscal%20year%20ending%3C/span%3E%0A%20%20%3Ch4%20class%3D%22mobile-only%22%3EOct.%202006%3C/h4%3E%0A%20%20%3Cspan%20class%3D%22small-label%22%3EFiscal%20year%20ending%20Oct.%3C/span%3E%0A%20%20%3Ch4%3E2006%3C/h4%3E%0A%20%20%3Cp%20class%3D%22linktype%22%3EPDF%3C/p%3E%0A%20%20%20%20%20%20%3Ca%20class%3D%22action%22%20href%3D%22/nonprofits/display_990/386225567/2006_12_EO%252F38-6225567_990O_200610%22%20%3E%0A%20%20%20%20%20%20IRS%20Filing%0A%20%20%20%20%3C/a%3E%0A%20%20%20%20%3Cdiv%20class%3D%22clear%20mobile-only%22%3E%3C/div%3E%0A%0A%20%20%0A%20%20%0A%3C/div%3E%0A%0A%20%20%20%20%20%20%20%20%20%20%20%20%3Cdiv%20class%3D%22right-content%22%20style%3D%22max-width%3A%20465px%22%3E%0A%20%20%20%20%20%20%20%20%20%20%20%20%20%20%20%20%3Cp%3E%3Cb%3EForm%20990%20documents%20available%3C/b%3E%3C/p%3E%0A%20%20%20%20%20%20%20%20%20%20%20%20%20%20%20%20%3Cp%3EExtracted%20filing%20data%20is%20not%20available%20for%20this%20tax%20period%2C%20but%20Form%20990%20documents%20are%20available%20for%20download.%3C/p%3E%0A%20%20%20%20%20%20%20%20%20%20%20%20%3C/div%3E%0A%20%20%20%20%20%20%20%20%20%20%3C/div%3E%0A%20%20%20%20%20%20%20%20%20%20%20%20%20%20%3C%21--%20FILING%20PERIOD%20ONLY%20HAS%20DOCUMENT%20LINKS%20--%3E%0A%20%20%20%20%20%20%20%20%20%20%3Cdiv%20class%3D%22single-filing%20cf%22%3E%0A%20%20%20%20%20%20%20%20%20%20%20%20%3Cdiv%20class%3D%22left-label%22%3E%0A%20%20%3Cspan%20class%3D%22small-label%20mobile-only%22%3EFiscal%20year%20ending%3C/span%3E%0A%20%20%3Ch4%20class%3D%22mobile-only%22%3EOct.%202005%3C/h4%3E%0A%20%20%3Cspan%20class%3D%22small-label%22%3EFiscal%20year%20ending%20Oct.%3C/span%3E%0A%20%20%3Ch4%3E2005%3C/h4%3E%0A%20%20%3Cp%20class%3D%22linktype%22%3EPDF%3C/p%3E%0A%20%20%20%20%20%20%3Ca%20class%3D%22action%22%20href%3D%22/nonprofits/display_990/386225567/2006_09_EO%252F38-6225567_990O_200510%22%20%3E%0A%20%20%20%20%20%20IRS%20Filing%0A%20%20%20%20%3C/a%3E%0A%20%20%20%20%3Cdiv%20class%3D%22clear%20mobile-only%22%3E%3C/div%3E%0A%0A%20%20%0A%20%20%0A%3C/div%3E%0A%0A%20%20%20%20%20%20%20%20%20%20%20%20%3Cdiv%20class%3D%22right-content%22%20style%3D%22max-width%3A%20465px%22%3E%0A%20%20%20%20%20%20%20%20%20%20%20%20%20%20%20%20%3Cp%3E%3Cb%3EForm%20990%20documents%20available%3C/b%3E%3C/p%3E%0A%20%20%20%20%20%20%20%20%20%20%20%20%20%20%20%20%3Cp%3EExtracted%20filing%20data%20is%20not%20available%20for%20this%20tax%20period%2C%20but%20Form%20990%20documents%20are%20available%20for%20download.%3C/p%3E%0A%20%20%20%20%20%20%20%20%20%20%20%20%3C/div%3E%0A%20%20%20%20%20%20%20%20%20%20%3C/div%3E%0A%20%20%20%20%20%20%20%20%20%20%20%20%20%20%3C%21--%20FILING%20PERIOD%20ONLY%20HAS%20DOCUMENT%20LINKS%20--%3E%0A%20%20%20%20%20%20%20%20%20%20%3Cdiv%20class%3D%22single-filing%20cf%22%3E%0A%20%20%20%20%20%20%20%20%20%20%20%20%3Cdiv%20class%3D%22left-label%22%3E%0A%20%20%3Cspan%20class%3D%22small-label%20mobile-only%22%3EFiscal%20year%20ending%3C/span%3E%0A%20%20%3Ch4%20class%3D%22mobile-only%22%3EOct.%202002%3C/h4%3E%0A%20%20%3Cspan%20class%3D%22small-label%22%3EFiscal%20year%20ending%20Oct.%3C/span%3E%0A%20%20%3Ch4%3E2002%3C/h4%3E%0A%20%20%3Cp%20class%3D%22linktype%22%3EPDF%3C/p%3E%0A%20%20%20%20%20%20%3Ca%20class%3D%22action%22%20href%3D%22/nonprofits/display_990/386225567/2002_12_EO%252F38-6225567_990_200210%22%20%3E%0A%20%20%20%20%20%20990%0A%20%20%20%20%20%20%20%20%20%20%3C/a%3E%0A%20%20%20%20%3Cdiv%20class%3D%22clear%20mobile-only%22%3E%3C/div%3E%0A%0A%20%20%0A%20%20%0A%3C/div%3E%0A%0A%20%20%20%20%20%20%20%20%20%20%20%20%3Cdiv%20class%3D%22right-content%22%20style%3D%22max-width%3A%20465px%22%3E%0A%20%20%20%20%20%20%20%20%20%20%20%20%20%20%20%20%3Cp%3E%3Cb%3EForm%20990%20documents%20available%3C/b%3E%3C/p%3E%0A%20%20%20%20%20%20%20%20%20%20%20%20%20%20%20%20%3Cp%3EExtracted%20filing%20data%20is%20not%20available%20for%20this%20tax%20period%2C%20but%20Form%20990%20documents%20are%20available%20for%20download.%3C/p%3E%0A%20%20%20%20%20%20%20%20%20%20%20%20%3C/div%3E%0A%20%20%20%20%20%20%20%20%20%20%3C/div%3E%0A%20%20%20%20%20%20%20%20%20%20%20%20%20%20%3C%21--%20FILING%20PERIOD%20ONLY%20HAS%20DOCUMENT%20LINKS%20--%3E%0A%20%20%20%20%20%20%20%20%20%20%3Cdiv%20class%3D%22single-filing%20cf%22%3E%0A%20%20%20%20%20%20%20%20%20%20%20%20%3Cdiv%20class%3D%22left-label%22%3E%0A%20%20%3Cspan%20class%3D%22small-label%20mobile-only%22%3EFiscal%20year%20ending%3C/span%3E%0A%20%20%3Ch4%20class%3D%22mobile-only%22%3EOct.%202001%3C/h4%3E%0A%20%20%3Cspan%20class%3D%22small-label%22%3EFiscal%20year%20ending%20Oct.%3C/span%3E%0A%20%20%3Ch4%3E2001%3C/h4%3E%0A%20%20%3Cp%20class%3D%22linktype%22%3EPDF%3C/p%3E%0A%20%20%20%20%20%20%3Ca%20class%3D%22action%22%20href%3D%22/nonprofits/display_990/386225567/2002_01_EO%252F38-6225567_990_200110%22%20%3E%0A%20%20%20%20%20%20990%0A%20%20%20%20%20%20%20%20%20%20%3C/a%3E%0A%20%20%20%20%3Cdiv%20class%3D%22clear%20mobile-only%22%3E%3C/div%3E%0A%0A%20%20%0A%20%20%0A%3C/div%3E%0A%0A%20%20%20%20%20%20%20%20%20%20%20%20%3Cdiv%20class%3D%22right-content%22%20style%3D%22max-width%3A%20465px%22%3E%0A%20%20%20%20%20%20%20%20%20%20%20%20%20%20%20%20%3Cp%3E%3Cb%3EForm%20990%20documents%20available%3C/b%3E%3C/p%3E%0A%20%20%20%20%20%20%20%20%20%20%20%20%20%20%20%20%3Cp%3EExtracted%20filing%20data%20is%20not%20available%20for%20this%20tax%20period%2C%20but%20Form%20990%20documents%20are%20available%20for%20download.%3C/p%3E%0A%20%20%20%20%20%20%20%20%20%20%20%20%3C/div%3E%0A%20%20%20%20%20%20%20%20%20%20%3C/div%3E%0A%20%20%20%20%3C%21--%20filing_periods%20each%20--%3E%0A%20%20%3C/div%3E%0A%3C/div%3E%0A%0A%3Cdiv%20class%3D%22right-col%22%3E%0A%20%20%3Cdiv%20id%3D%22search-box-wrapper-wide%22%20class%3D%22sidebar-version%22%3E%0A%20%20%20%20%3Cform%20target%3D%22_self%22%20action%3D%22/nonprofits/search%22%20accept-charset%3D%22UTF-8%22%20method%3D%22get%22%3E%3Cinput%20name%3D%22utf8%22%20type%3D%22hidden%22%20value%3D%22%26%23x2713%3B%22%20/%3E%0A%0A%20%20%3Ch2%3ESearch%20for%20a%20Nonprofit%3C/h2%3E%0A%0A%20%20%3Cdiv%20class%3D%22search-box%22%3E%0A%20%20%20%20%3Cdiv%20class%3D%22small-label%22%3EEnter%20a%20nonprofit%27s%20name%2C%20a%20keyword%2C%20or%20city%20%3C/div%3E%0A%20%20%20%20%20%20%3Cinput%20type%3D%22text%22%20name%3D%22q%22%20id%3D%22q%22%20value%3D%22%22%20maxlength%3D%22105%22%20class%3D%22text-input%22%20/%3E%0A%20%20%20%20%3Cdiv%20class%3D%22examples%22%3EExamples%3A%20%3Ca%20href%3D%22/nonprofits/search%3Fq%3DProPublica%22%3EProPublica%3C/a%3E%2C%20%3Ca%20href%3D%22/nonprofits/search%3Fq%3DResearch%22%3EResearch%3C/a%3E%20or%20%3Ca%20href%3D%22/nonprofits/search%3Fq%3DMinneapolis%22%3EMinneapolis%3C/a%3E%3C/div%3E%0A%20%20%3C/div%3E%0A%0A%20%20%3Cdiv%20style%3D%22clear%3Aboth%22%3E%0A%20%20%20%20%3Cdiv%20class%3D%22state%20label-holder%22%3E%0A%20%20%20%20%20%20%3Clabel%20for%3D%22state%22%3EState%3C/label%3E%0A%20%20%20%20%20%20%3Cselect%20class%3D%22state-dropdown%22%20name%3D%22state%5Bid%5D%22%20id%3D%22state_id%22%3E%3Coption%20value%3D%22%22%3EAny%20State%3C/option%3E%0A%3Coption%20value%3D%22AL%22%3EAlabama%3C/option%3E%0A%3Coption%20value%3D%22AK%22%3EAlaska%3C/option%3E%0A%3Coption%20value%3D%22AR%22%3EArkansas%3C/option%3E%0A%3Coption%20value%3D%22AZ%22%3EArizona%3C/option%3E%0A%3Coption%20value%3D%22CA%22%3ECalifornia%3C/option%3E%0A%3Coption%20value%3D%22CO%22%3EColorado%3C/option%3E%0A%3Coption%20value%3D%22CT%22%3EConnecticut%3C/option%3E%0A%3Coption%20value%3D%22DE%22%3EDelaware%3C/option%3E%0A%3Coption%20value%3D%22DC%22%3EDistrict%20of%20Columbia%3C/option%3E%0A%3Coption%20value%3D%22FL%22%3EFlorida%3C/option%3E%0A%3Coption%20value%3D%22GA%22%3EGeorgia%3C/option%3E%0A%3Coption%20value%3D%22HI%22%3EHawaii%3C/option%3E%0A%3Coption%20value%3D%22ID%22%3EIdaho%3C/option%3E%0A%3Coption%20value%3D%22IL%22%3EIllinois%3C/option%3E%0A%3Coption%20value%3D%22IA%22%3EIowa%3C/option%3E%0A%3Coption%20value%3D%22IN%22%3EIndiana%3C/option%3E%0A%3Coption%20value%3D%22KS%22%3EKansas%3C/option%3E%0A%3Coption%20value%3D%22KY%22%3EKentucky%3C/option%3E%0A%3Coption%20value%3D%22LA%22%3ELouisiana%3C/option%3E%0A%3Coption%20value%3D%22ME%22%3EMaine%3C/option%3E%0A%3Coption%20value%3D%22MD%22%3EMaryland%3C/option%3E%0A%3Coption%20value%3D%22MA%22%3EMassachusetts%3C/option%3E%0A%3Coption%20value%3D%22MI%22%3EMichigan%3C/option%3E%0A%3Coption%20value%3D%22MN%22%3EMinnesota%3C/option%3E%0A%3Coption%20value%3D%22MS%22%3EMississippi%3C/option%3E%0A%3Coption%20value%3D%22MO%22%3EMissouri%3C/option%3E%0A%3Coption%20value%3D%22MT%22%3EMontana%3C/option%3E%0A%3Coption%20value%3D%22NE%22%3ENebraska%3C/option%3E%0A%3Coption%20value%3D%22NV%22%3ENevada%3C/option%3E%0A%3Coption%20value%3D%22NH%22%3ENew%20Hampshire%3C/option%3E%0A%3Coption%20value%3D%22NJ%22%3ENew%20Jersey%3C/option%3E%0A%3Coption%20value%3D%22NM%22%3ENew%20Mexico%3C/option%3E%0A%3Coption%20value%3D%22NY%22%3ENew%20York%3C/option%3E%0A%3Coption%20value%3D%22NC%22%3ENorth%20Carolina%3C/option%3E%0A%3Coption%20value%3D%22ND%22%3ENorth%20Dakota%3C/option%3E%0A%3Coption%20value%3D%22OH%22%3EOhio%3C/option%3E%0A%3Coption%20value%3D%22OK%22%3EOklahoma%3C/option%3E%0A%3Coption%20value%3D%22OR%22%3EOregon%3C/option%3E%0A%3Coption%20value%3D%22PA%22%3EPennsylvania%3C/option%3E%0A%3Coption%20value%3D%22RI%22%3ERhode%20Island%3C/option%3E%0A%3Coption%20value%3D%22SC%22%3ESouth%20Carolina%3C/option%3E%0A%3Coption%20value%3D%22SD%22%3ESouth%20Dakota%3C/option%3E%0A%3Coption%20value%3D%22TN%22%3ETennessee%3C/option%3E%0A%3Coption%20value%3D%22TX%22%3ETexas%3C/option%3E%0A%3Coption%20value%3D%22UT%22%3EUtah%3C/option%3E%0A%3Coption%20value%3D%22VT%22%3EVermont%3C/option%3E%0A%3Coption%20value%3D%22VA%22%3EVirginia%3C/option%3E%0A%3Coption%20value%3D%22WA%22%3EWashington%3C/option%3E%0A%3Coption%20value%3D%22WV%22%3EWest%20Virginia%3C/option%3E%0A%3Coption%20value%3D%22WI%22%3EWisconsin%3C/option%3E%0A%3Coption%20value%3D%22WY%22%3EWyoming%3C/option%3E%0A%3Coption%20value%3D%22AA%22%3EArmed%20Forces%20Americas%3C/option%3E%0A%3Coption%20value%3D%22AE%22%3EArmed%20Forces%20Europe%3C/option%3E%0A%3Coption%20value%3D%22AP%22%3EArmed%20Forces%20Pacific%3C/option%3E%0A%3Coption%20value%3D%22AS%22%3EAmerica%20Samoa%3C/option%3E%0A%3Coption%20value%3D%22FM%22%3EFed.%20States%20of%20Micronesia%3C/option%3E%0A%3Coption%20value%3D%22GU%22%3EGuam%3C/option%3E%0A%3Coption%20value%3D%22MH%22%3EMarshall%20Islands%3C/option%3E%0A%3Coption%20value%3D%22MP%22%3ENorthern%20Mariana%20Islands%3C/option%3E%0A%3Coption%20value%3D%22PR%22%3EPuerto%20Rico%3C/option%3E%0A%3Coption%20value%3D%22PW%22%3EPalau%3C/option%3E%0A%3Coption%20value%3D%22VI%22%3EVirgin%20Island%3C/option%3E%0A%3Coption%20value%3D%22ZZ%22%3EOutside%20U.S.%3C/option%3E%3C/select%3E%0A%20%20%20%20%3C/div%3E%0A%20%20%20%20%3Cdiv%20class%3D%22ntee%20label-holder%22%3E%0A%20%20%20%20%20%20%3Clabel%20for%3D%22ntee%22%3EMajor%20nonprofit%20categories%20%3Ca%20target%3D%22_blank%22%20href%3D%22http%3A//nccs.urban.org/classification/NTEE.cfm%22%3E%3Cimg%20class%3D%22info-button%22%20src%3D%22https%3A//static.propublica.org/assets/images/information.png%22%20alt%3D%22Information%22%20/%3E%3C/a%3E%3C/label%3E%0A%20%20%20%20%20%20%3Cselect%20name%3D%22ntee%5Bid%5D%22%20id%3D%22ntee_id%22%3E%3Coption%20value%3D%22%22%3EAny%20Category%3C/option%3E%0A%3Coption%20value%3D%221%22%3EArts%2C%20Culture%20%26amp%3B%20Humanities%3C/option%3E%0A%3Coption%20value%3D%222%22%3EEducation%3C/option%3E%0A%3Coption%20value%3D%223%22%3EEnvironment%20and%20Animals%3C/option%3E%0A%3Coption%20value%3D%224%22%3EHealth%3C/option%3E%0A%3Coption%20value%3D%225%22%3EHuman%20Services%3C/option%3E%0A%3Coption%20value%3D%226%22%3EInternational%2C%20Foreign%20Affairs%3C/option%3E%0A%3Coption%20value%3D%227%22%3EPublic%2C%20Societal%20Benefit%3C/option%3E%0A%3Coption%20value%3D%228%22%3EReligion%20Related%3C/option%3E%0A%3Coption%20value%3D%229%22%3EMutual/Membership%20Benefit%3C/option%3E%0A%3Coption%20value%3D%2210%22%3EUnknown%2C%20Unclassified%3C/option%3E%3C/select%3E%0A%20%20%20%20%3C/div%3E%0A%20%20%20%20%3Cdiv%20class%3D%22c_code%20label-holder%22%3E%0A%20%20%20%20%20%20%3Clabel%20for%3D%22c_code%22%3EOrg.%20Type%20%3Ca%20href%3D%22/nonprofits/ctypes%22%3E%3Cimg%20class%3D%22info-button%22%20src%3D%22https%3A//static.propublica.org/assets/images/information.png%22%20alt%3D%22Information%22%20/%3E%3C/a%3E%3C/label%3E%0A%20%20%20%20%20%20%3Cselect%20name%3D%22c_code%5Bid%5D%22%20id%3D%22c_code_id%22%3E%3Coption%20value%3D%22%22%3EAny%20Type%3C/option%3E%0A%3Coption%20value%3D%222%22%3E501%28c%29%282%29%3C/option%3E%0A%3Coption%20value%3D%223%22%3E501%28c%29%283%29%3C/option%3E%0A%3Coption%20value%3D%224%22%3E501%28c%29%284%29%3C/option%3E%0A%3Coption%20value%3D%225%22%3E501%28c%29%285%29%3C/option%3E%0A%3Coption%20value%3D%226%22%3E501%28c%29%286%29%3C/option%3E%0A%3Coption%20value%3D%227%22%3E501%28c%29%287%29%3C/option%3E%0A%3Coption%20value%3D%228%22%3E501%28c%29%288%29%3C/option%3E%0A%3Coption%20value%3D%229%22%3E501%28c%29%289%29%3C/option%3E%0A%3Coption%20value%3D%2210%22%3E501%28c%29%2810%29%3C/option%3E%0A%3Coption%20value%3D%2211%22%3E501%28c%29%2811%29%3C/option%3E%0A%3Coption%20value%3D%2212%22%3E501%28c%29%2812%29%3C/option%3E%0A%3Coption%20value%3D%2213%22%3E501%28c%29%2813%29%3C/option%3E%0A%3Coption%20value%3D%2214%22%3E501%28c%29%2814%29%3C/option%3E%0A%3Coption%20value%3D%2215%22%3E501%28c%29%2815%29%3C/option%3E%0A%3Coption%20value%3D%2216%22%3E501%28c%29%2816%29%3C/option%3E%0A%3Coption%20value%3D%2217%22%3E501%28c%29%2817%29%3C/option%3E%0A%3Coption%20value%3D%2218%22%3E501%28c%29%2818%29%3C/option%3E%0A%3Coption%20value%3D%2219%22%3E501%28c%29%2819%29%3C/option%3E%0A%3Coption%20value%3D%2221%22%3E501%28c%29%2821%29%3C/option%3E%0A%3Coption%20value%3D%2222%22%3E501%28c%29%2822%29%3C/option%3E%0A%3Coption%20value%3D%2223%22%3E501%28c%29%2823%29%3C/option%3E%0A%3Coption%20value%3D%2225%22%3E501%28c%29%2825%29%3C/option%3E%0A%3Coption%20value%3D%2226%22%3E501%28c%29%2826%29%3C/option%3E%0A%3Coption%20value%3D%2227%22%3E501%28c%29%2827%29%3C/option%3E%0A%3Coption%20value%3D%2228%22%3E501%28c%29%2828%29%3C/option%3E%0A%3Coption%20value%3D%2229%22%3E501%28c%29%2829%29%3C/option%3E%0A%3Coption%20value%3D%2292%22%3E4947%28a%29%281%29%3C/option%3E%3C/select%3E%0A%20%20%20%20%3C/div%3E%0A%20%20%20%20%20%20%3Cinput%20type%3D%22submit%22%20value%3D%22Search%22%20class%3D%22irs-btn-input%22%20data-disable-with%3D%22Search%22%20/%3E%0A%20%20%3C/div%3E%0A%0A%20%20%20%20%3Cdiv%20class%3D%22advanced-link%20bottom%22%3E%3Ca%20href%3D%22/nonprofits/advanced_search%22%3EAdvanced%20Search%3C/a%3E%20%7C%20%3Ca%20href%3D%22/nonprofits/name_search%22%3EPeople%20Search%3C/a%3E%3C/div%3E%20%0A%0A%0A%0A%0A%3C/form%3E%0A%20%20%3C/div%3E%0A%0A%20%20%3Cdiv%20class%3D%22side-signup-box%20about-this-data%22%3E%0A%20%20%20%20%20%20%3Ch2%20class%3D%22hed-form%22%3EGet%20Email%20Updates%3C/h2%3E%0A%20%20%20%20%20%20%3Cp%3ESign%20up%20to%20get%20ProPublica%E2%80%99s%20biggest%20stories%20delivered%20straight%20to%20your%20inbox.%3C/p%3E%0A%20%20%20%20%20%20%3Cform%20class%3D%22email-signup%22%20action%3D%22https%3A//signup.propublica.org/newsletter/turing%22%20method%3D%22post%22%3E%0A%0A%20%20%20%20%20%20%20%20%20%20%3Cfieldset%3E%0A%20%20%20%20%20%20%20%20%20%20%20%20%20%20%3Cinput%20placeholder%3D%22you%40example.com%22%20value%3D%22%22%20name%3D%22email%22%20class%3D%22required%20email%22%20id%3D%22email-signup-input-email%22%20type%3D%22email%22%20onfocus%3D%22recaptchaInit%28%29%22%20%3E%0A%20%20%20%20%20%20%20%20%20%20%20%20%20%20%3Cinput%20value%3D%22l/125411/2019-05-07/6n944d%22%20name%3D%22target%22%20type%3D%22hidden%22%20%3E%0A%20%20%20%20%20%20%20%20%20%20%20%20%20%20%3Cinput%20class%3D%22btn%20g-recaptcha%22%20type%3D%22submit%22%20value%3D%22Subscribe%22%3E%0A%20%20%20%20%20%20%20%20%20%20%3C/fieldset%3E%0A%20%20%20%20%20%20%3C/form%3E%0A%20%20%20%20%20%20%3Csmall%20class%3D%22legal%22%3EThis%20site%20is%20protected%20by%20reCAPTCHA%20and%20the%20Google%20%3Ca%20href%3D%22https%3A//policies.google.com/privacy%22%3EPrivacy%20Policy%3C/a%3E%20and%20%3Ca%20href%3D%22https%3A//policies.google.com/terms%22%3ETerms%20of%20Service%3C/a%3E%20apply.%3C/small%3E%0A%20%20%20%20%20%20%3C%21--%20/end%20.email-signup%20--%3E%0A%20%20%3C/div%3E%0A%20%20%3Cdiv%20class%3D%22about-this-data%22%3E%0A%20%20%20%20%3Ch2%3EAbout%20This%20Data%3C/h2%3E%0A%3Cp%3ENonprofit%20Explorer%20includes%20summary%20data%20for%20nonprofit%20tax%20returns%20and%20PDFs%20of%20full%20Form%20990%20documents.%3C/p%3E%0A%3Cp%3EThe%20summary%20data%20contains%20information%20processed%20by%20the%20IRS%20during%20the%202012-2017%20calendar%20years%3B%20this%20generally%20consists%20of%20filings%20for%20the%202011-2016%20fiscal%20years%2C%20but%20may%20include%20older%20records.%20This%20data%20release%20includes%20only%20a%20subset%20of%20what%20can%20be%20found%20in%20the%20full%20Form%20990s.%3C/p%3E%0A%3Cp%3EIn%20addition%20to%20the%20raw%20summary%20data%2C%20we%20link%20to%20PDFs%20of%20full%20Form%20990%20documents%20wherever%20possible.%20This%20consists%20of%20a%20separate%20release%20by%20the%20IRS%20of%20Form%20990%20documents%20processed%20by%20the%20agency%20through%20June%202016%3B%20these%20documents%20may%20contain%20filings%20as%20recent%20as%20the%202015%20fiscal%20year.%3C/p%3E%0A%0A%3Ch3%3EWhich%20Organizations%20Are%20Here%3F%3C/h3%3E%0A%3Cp%3EEvery%20organization%20that%20has%20been%20recognized%20as%20tax%20exempt%20by%20the%20IRS%20has%20to%20file%20Form%20990%20every%20year%2C%20unless%20they%20make%20less%20than%20%24200%2C000%20in%20revenue%20and%20have%20less%20than%20%24500%2C000%20in%20assets%2C%20in%20which%20case%20they%20have%20to%20file%20form%20990-EZ.%20Organizations%20making%20less%20than%20%2450%2C000%20don%E2%80%99t%20have%20to%20file%20either%20form%20but%20do%20have%20to%20let%20the%20IRS%20they%E2%80%99re%20still%20in%20business%20via%20a%20%3Ca%20href%3D%22https%3A//www.irs.gov/charities-non-profits/annual-electronic-filing-requirement-for-small-exempt-organizations-form-990-n-e-postcard%22%3EForm%20990N%20%22e-Postcard.%22%3C/a%3E%3C/p%3E%0A%3Cp%3ENonprofit%20Explorer%20has%20organizations%20claiming%20tax%20exemption%20in%20each%20of%20the%2027%20subsections%20of%20the%20501%28c%29%20section%20of%20the%20tax%20code%2C%20and%20which%20have%20filed%20a%20Form%20990%2C%20Form%20990EZ%20or%20Form%20990PF.%20Taxable%20trusts%20and%20private%20foundations%20that%20are%20required%20to%20file%20a%20form%20990PF%20are%20also%20included.%20Small%20organizations%20filing%20a%20Form%20990N%20%22e-Postcard%22%20are%20not%20included%20in%20this%20data.%3C/p%3E%0A%0A%3Ch3%3ETypes%20of%20Nonprofits%3C/h3%3E%0A%3Cp%3EThere%20are%2027%20nonprofit%20designations%20based%20on%20the%20numbered%20subsections%20of%20section%20501%28c%29%20of%20the%20tax%20code.%20%3Ca%20href%3D%22/nonprofits/ctypes%22%3ESee%20the%20list%20%C2%BB%3C/a%3E%3C/p%3E%0A%0A%3Ch3%3EHow%20to%20Research%20Tax-Exempt%20Organizations%3C/h3%3E%0A%3Cp%3EWe%27ve%20created%20a%20%3Ca%20href%3D%22https%3A//www.propublica.org/nerds/item/resources-for-investigating-tax-exempt-organizations%22%3Eguide%20for%20investigating%20nonprofits%3C/a%3E%20for%20those%20just%20getting%20started%20as%20well%20as%20for%20seasoned%20pros.%3C/p%3E%0A%0A%3Ch3%3EAPI%3C/h3%3E%0A%3Cp%3EThe%20data%20powering%20this%20website%20is%20available%20programmatically%2C%20via%20an%20API.%20%3Ca%20href%3D%22/nonprofits/api%22%3ERead%20the%20API%20documentation%20%C2%BB%3C/a%3E%3C/p%3E%0A%0A%3Ch3%3EGet%20the%20Data%3C/h3%3E%0A%3Cp%3EFor%20those%20interested%20in%20acquiring%20the%20original%20data%20from%20the%20source%2C%20here%E2%80%99s%20where%20our%20data%20comes%20from%3A%3C/p%3E%0A%3Cul%20class%3D%22bullets%22%3E%0A%20%20%3Cli%3E%3Ca%20href%3D%22https%3A//www.irs.gov/uac/soi-tax-stats-annual-extract-of-tax-exempt-organization-financial-data%22%3ERaw%20filing%20data%3C/a%3E.%20Includes%20EINs%20and%20summary%20financials%20as%20structured%20data.%3C/li%3E%0A%20%20%3Cli%3E%3Ca%20href%3D%22https%3A//www.irs.gov/charities-non-profits/exempt-organizations-business-master-file-extract-eo-bmf%22%3EExempt%20Organization%20profiles%3C/a%3E.%20Includes%20organization%20names%2C%20addresses%2C%20etc.%20You%20can%20merge%20this%20with%20the%20raw%20filing%20data%20using%20EIN%20numbers.%3C/li%3E%0A%20%20%3Cli%3E%3Ca%20href%3D%22https%3A//www.irs.gov/charities-non-profits/copies-of-scanned-eo-returns-available%22%3EForm%20990%20documents%3C/a%3E%20requested%20and%20processed%20by%20%3Ca%20href%3D%22https%3A//public.resource.org/%22%3EPublic.Resource.Org%3C/a%3E%20and%20ProPublica.%20We%20post%20bulk%20downloads%20of%20these%20documents%20%3Ca%20href%3D%22https%3A//archive.org/details/IRS990%22%3Eat%20the%20Internet%20Archive%3C/a%3E.%3C/li%3E%0A%20%20%3Cli%3E%3Ca%20href%3D%22https%3A//aws.amazon.com/public-datasets/irs-990/%22%3EForm%20990%20documents%20as%20XML%20files%3C/a%3E.%20Includes%20complete%20filing%20data%20%28financial%20details%2C%20names%20of%20officers%2C%20tax%20schedules%2C%20etc.%29%20in%20machine-readable%20format.%20Only%20available%20for%20electronically%20filed%20documents.%3C/li%3E%0A%20%20%3Cli%3E%3Ca%20href%3D%22https%3A//harvester.census.gov/facdissem/Main.aspx%22%3EAudits%3C/a%3E.%20PDFs%20of%20single%20or%20program-specific%20audits%20for%20nonprofit%20organizations%20that%20spent%20%24750%2C000%20or%20more%20in%20Federal%20grant%20money%20in%20a%20single%20fiscal%20year.%20Available%20for%202016%20and%20later.%3C/li%3E%0A%3C/ul%3E%0A%0A%20%20%3C/div%3E%0A%20%20%3Cscript%20data-cfasync%3D%22false%22%20src%3D%22/cdn-cgi/scripts/5c5dd728/cloudflare-static/email-decode.min.js%22%3E%3C/script%3E%3Cscript%20type%3D%22text/javascript%22%3E%20googletag.display%28%27google-Rt_Sdbr_Non-Mobile-Only300x250%27%29%3B%20%3C/script%3E%0A%20%20%3Cp%20style%3D%22margin-top%3A10px%3B%22%3E%3C/p%3E%0A%3C/div%3E%0A%0A%3Cdiv%20class%3D%22clear%22%3E%3C/div%3E%0A%0A%20%20%20%20%3C/div%3E%0A%20%20%3C/div%3E%20%3C%21--%20/%23content%20--%3E%0A%0A%20%20%3Cscript%20src%3D%22//connect.facebook.net/en_US/all.js%22%3E%3C/script%3E%0A%20%20%3Cdiv%20id%3D%22fb-root%22%3E%3C/div%3E%0A%20%20%3Cscript%3E%0A%20%20%20%20FB.init%28%7B%0A%20%20%20%20%20%20appId%20%20%20%20%20%20%3A%20%27229862657130557%27%2C%20//%20App%20ID%0A%20%20%20%20%20%20status%20%20%20%20%20%3A%20true%2C%20//%20check%20login%20status%0A%20%20%20%20%20%20cookie%20%20%20%20%20%3A%20true%2C%20//%20enable%20cookies%20to%20allow%20the%20server%20to%20access%20the%20session%0A%20%20%20%20%20%20xfbml%20%20%20%20%20%20%3A%20true%20%20//%20parse%20XFBML%0A%20%20%20%20%7D%29%3B%0A%20%20%3C/script%3E%0A%20%20%3Cbr%20clear%3D%22all%22%3E%0A%0A%3C/div%3E%3C%21--%20/%23irs-990%20--%3E%0A%0A%3Cdiv%20id%3D%22footer%22%3E%0A%20%20%3Cdiv%20class%3D%22wrapper%22%3E%0A%20%20%20%20%3Cdiv%20id%3D%22footer-logo%22%3E%0A%20%20%20%20%20%20%3Cp%20id%3D%22footer-logo-image%22%3EProPublica%3C/p%3E%0A%20%20%20%20%20%20%3Cp%3E%26copy%3B%20Copyright%3Cbr%20/%3EPro%20Publica%20Inc.%3C/p%3E%0A%20%20%20%20%3C/div%3E%0A%20%20%20%20%3Cdiv%20style%3D%22clear%3Aboth%3B%22%3E%3C/div%3E%0A%20%20%3C/div%3E%0A%3C/div%3E%0A%0A%3Cscript%20data-syndicate%0A%20%20src%3D%22https%3A//assets.propublica.org/prod/v3/js/deploy/syndicated-newsletter-v1.0.0.js%22%0A%20%20data-endpoint%3D%22https%3A//www.propublica.org/partials/newsletter-roadblock-data-store-projects.propublica.org.html%22%0A%20%20data-target%3D%22l/125411/2019-08-28/6yxn8b%22%3E%0A%3C/script%3E%0A%0A%0A%3Cscript%20src%3D%27https%3A//www.google.com/recaptcha/api.js%3Fonload%3DgrecaptchaLoaded%26render%3D6LdI1rAUAAAAACI0GsFv-yRpC0tPF5ECiIMDUz2x%27%3E%3C/script%3E%0A%3Cscript%20src%3D%27https%3A//assets.propublica.org/prod/v3/js/recaptcha-init.js%27%3E%3C/script%3E%0A%3C/body%3E%0A%3C/html%3E%0A\"\n",
       "            frameborder=\"0\"\n",
       "            allowfullscreen\n",
       "        ></iframe>\n",
       "        "
      ],
      "text/plain": [
       "<IPython.lib.display.IFrame at 0x2041323f408>"
      ]
     },
     "execution_count": 3,
     "metadata": {},
     "output_type": "execute_result"
    }
   ],
   "source": [
    "URL = 'https://projects.propublica.org/nonprofits/organizations/386225567'\n",
    "\n",
    "html = rq.get(URL).text\n",
    "util.display_iframe(html, width=450, height=200)"
   ]
  },
  {
   "cell_type": "markdown",
   "metadata": {},
   "source": [
    "It works just fetching the html without executing the javascript and it doesn't have any bot detection system.\n",
    "\n",
    "So we can scrape it without worries."
   ]
  },
  {
   "cell_type": "code",
   "execution_count": 5,
   "metadata": {
    "scrolled": true
   },
   "outputs": [
    {
     "data": {
      "text/plain": [
       "[{'Name': 'LAFAYETTE SWANTON TR UW FOR PUBLIC PARK',\n",
       "  'Metadata': 'PO BOX 3636, GRAND RAPIDS, MI 49501-3636 | Tax-exempt since Aug. 1983',\n",
       "  'EIN': '38-6225567',\n",
       "  'Classification': None,\n",
       "  'Nonprofit Tax Code Designation': None,\n",
       "  'Guidestar URL': 'https://www.guidestar.org/organizations/38-6225567/.aspx',\n",
       "  'Year': None,\n",
       "  'Total Revenue': None,\n",
       "  'Total Assets': None}]"
      ]
     },
     "execution_count": 5,
     "metadata": {},
     "output_type": "execute_result"
    }
   ],
   "source": [
    "propublica.extract_data(html)"
   ]
  },
  {
   "cell_type": "markdown",
   "metadata": {},
   "source": [
    "Compare results to check if there are no issues scraping a company."
   ]
  },
  {
   "cell_type": "markdown",
   "metadata": {},
   "source": [
    "---"
   ]
  },
  {
   "cell_type": "markdown",
   "metadata": {},
   "source": [
    "Extract each state code from the website form dropdown."
   ]
  },
  {
   "cell_type": "code",
   "execution_count": 47,
   "metadata": {},
   "outputs": [],
   "source": [
    "orgs  = propublica.fetch_org_types()\n",
    "comps = propublica.fetch_org_companies(orgs)"
   ]
  },
  {
   "cell_type": "code",
   "execution_count": 48,
   "metadata": {
    "scrolled": true
   },
   "outputs": [],
   "source": [
    "results = []\n",
    "\n",
    "for comp in comps:\n",
    "    results.append(comp)\n",
    "\n",
    "df = pd.DataFrame(results)\n",
    "df.drop_duplicates(subset=['Company'], inplace=True)\n",
    "df.to_csv('./companies.csv', index=None)"
   ]
  },
  {
   "cell_type": "markdown",
   "metadata": {},
   "source": [
    "---"
   ]
  },
  {
   "cell_type": "markdown",
   "metadata": {},
   "source": [
    "Extract 10 companies to check if it is working"
   ]
  },
  {
   "cell_type": "code",
   "execution_count": 100,
   "metadata": {
    "collapsed": true,
    "jupyter": {
     "outputs_hidden": true
    },
    "scrolled": true
   },
   "outputs": [
    {
     "name": "stderr",
     "output_type": "stream",
     "text": [
      "\n",
      "\n",
      "\n",
      "\n",
      "\n",
      "                                                                                                \n",
      "\n",
      "\n",
      "                                                                                                \n",
      "\n",
      "                                                                                                \n",
      "                                                                                                \n",
      "\n",
      "\n",
      "\n",
      "                                                                                                \n",
      "\n",
      "\n",
      "\n",
      "\n",
      "                                                                                                \r"
     ]
    },
    {
     "name": "stdout",
     "output_type": "stream",
     "text": [
      "47 scraped\n"
     ]
    },
    {
     "name": "stderr",
     "output_type": "stream",
     "text": [
      "  0%|                                                 | 37/563569 [1:20:38<178:28:13,  1.14s/it]\n",
      "\n",
      "\n",
      "  0%|                                                  | 4/563569 [1:11:42<156:28:41,  1.00it/s]\n",
      "\n",
      "  0%|                                                 | 56/563569 [1:12:04<175:54:36,  1.12s/it]\n",
      "  0%|                                                 | 44/563569 [1:18:37<167:01:38,  1.07s/it]\n",
      "\n",
      "\n",
      "\n",
      "  0%|                                                 | 45/563569 [1:06:05<116:56:24,  1.34it/s]\n",
      "\n",
      "\n",
      "\n",
      "\n",
      "                                                                                                \n",
      "\n",
      "\n",
      "                                                                                                \n",
      "\n",
      "                                                                                                \n",
      "                                                                                                \n",
      "\n",
      "\n",
      "\n",
      "                                                                                                \n",
      "\n",
      "\n",
      "\n",
      "\n",
      "                                                                                                \r"
     ]
    },
    {
     "name": "stdout",
     "output_type": "stream",
     "text": [
      "https://projects.propublica.org/nonprofits/organizations/133732472\n"
     ]
    },
    {
     "name": "stderr",
     "output_type": "stream",
     "text": [
      "  0%|                                                 | 37/563569 [1:20:38<178:28:13,  1.14s/it]\n",
      "\n",
      "\n",
      "  0%|                                                  | 4/563569 [1:11:42<156:28:41,  1.00it/s]\n",
      "\n",
      "  0%|                                                 | 56/563569 [1:12:04<175:54:36,  1.12s/it]\n",
      "  0%|                                                 | 44/563569 [1:18:37<167:01:38,  1.07s/it]\n",
      "\n",
      "\n",
      "\n",
      "  0%|                                                 | 45/563569 [1:06:05<116:56:24,  1.34it/s]\n",
      "\n",
      "\n",
      "\n",
      "\n",
      "                                                                                                \n",
      "\n",
      "\n",
      "                                                                                                \n",
      "\n",
      "                                                                                                \n",
      "                                                                                                \n",
      "\n",
      "\n",
      "\n",
      "                                                                                                \n",
      "\n",
      "\n",
      "\n",
      "\n",
      "                                                                                                \r"
     ]
    },
    {
     "name": "stdout",
     "output_type": "stream",
     "text": [
      "Already scraped\n"
     ]
    },
    {
     "name": "stderr",
     "output_type": "stream",
     "text": [
      "  0%|                                                 | 37/563569 [1:20:38<178:28:13,  1.14s/it]\n",
      "\n",
      "\n",
      "  0%|                                                  | 4/563569 [1:11:42<156:28:41,  1.00it/s]\n",
      "\n",
      "  0%|                                                 | 56/563569 [1:12:04<175:54:36,  1.12s/it]\n",
      "  0%|                                                 | 44/563569 [1:18:37<167:01:38,  1.07s/it]\n",
      "\n",
      "\n",
      "\n",
      "  0%|                                                 | 45/563569 [1:06:05<116:56:24,  1.34it/s]\n",
      "\n",
      "\n",
      "\n",
      "\n",
      "                                                                                                \n",
      "\n",
      "\n",
      "                                                                                                \n",
      "\n",
      "                                                                                                \n",
      "                                                                                                \n",
      "\n",
      "\n",
      "\n",
      "                                                                                                \n",
      "\n",
      "\n",
      "\n",
      "\n",
      "                                                                                                \r"
     ]
    },
    {
     "name": "stdout",
     "output_type": "stream",
     "text": [
      "https://projects.propublica.org/nonprofits/organizations/943195450\n"
     ]
    },
    {
     "name": "stderr",
     "output_type": "stream",
     "text": [
      "  0%|                                                 | 37/563569 [1:20:38<178:28:13,  1.14s/it]\n",
      "\n",
      "\n",
      "  0%|                                                  | 4/563569 [1:11:42<156:28:41,  1.00it/s]\n",
      "\n",
      "  0%|                                                 | 56/563569 [1:12:04<175:54:36,  1.12s/it]\n",
      "  0%|                                                 | 44/563569 [1:18:37<167:01:38,  1.07s/it]\n",
      "\n",
      "\n",
      "\n",
      "  0%|                                                 | 45/563569 [1:06:05<116:56:24,  1.34it/s]\n",
      "\n",
      "\n",
      "\n",
      "\n",
      "                                                                                                \n",
      "\n",
      "\n",
      "                                                                                                \n",
      "\n",
      "                                                                                                \n",
      "                                                                                                \n",
      "\n",
      "\n",
      "\n",
      "                                                                                                \n",
      "\n",
      "\n",
      "\n",
      "\n",
      "                                                                                                \r"
     ]
    },
    {
     "name": "stdout",
     "output_type": "stream",
     "text": [
      "Already scraped\n"
     ]
    },
    {
     "name": "stderr",
     "output_type": "stream",
     "text": [
      "  0%|                                                 | 37/563569 [1:20:38<178:28:13,  1.14s/it]\n",
      "\n",
      "\n",
      "  0%|                                                  | 4/563569 [1:11:42<156:28:41,  1.00it/s]\n",
      "\n",
      "  0%|                                                 | 56/563569 [1:12:04<175:54:36,  1.12s/it]\n",
      "  0%|                                                 | 44/563569 [1:18:37<167:01:38,  1.07s/it]\n",
      "\n",
      "\n",
      "\n",
      "  0%|                                                 | 45/563569 [1:06:05<116:56:24,  1.34it/s]\n",
      "\n",
      "\n",
      "\n",
      "\n",
      "  0%|                                                                    | 0/10 [00:00<?, ?it/s]\n",
      "\n",
      "\n",
      "\n",
      "\n",
      "                                                                                                \n",
      "\n",
      "\n",
      "                                                                                                \n",
      "\n",
      "                                                                                                \n",
      "                                                                                                \n",
      "\n",
      "\n",
      "\n",
      "                                                                                                \n",
      "\n",
      "\n",
      "\n",
      "\n",
      "                                                                                                \r"
     ]
    },
    {
     "name": "stdout",
     "output_type": "stream",
     "text": [
      "https://projects.propublica.org/nonprofits/organizations/222719837\n"
     ]
    },
    {
     "name": "stderr",
     "output_type": "stream",
     "text": [
      "  0%|                                                 | 37/563569 [1:20:38<178:28:13,  1.14s/it]\n",
      "\n",
      "\n",
      "  0%|                                                  | 4/563569 [1:11:42<156:28:41,  1.00it/s]\n",
      "\n",
      "  0%|                                                 | 56/563569 [1:12:04<175:54:36,  1.12s/it]\n",
      "  0%|                                                 | 44/563569 [1:18:37<167:01:38,  1.07s/it]\n",
      "\n",
      "\n",
      "\n",
      "  0%|                                                 | 45/563569 [1:06:05<116:56:24,  1.34it/s]\n",
      "\n",
      "\n",
      "\n",
      "\n",
      "                                                                                                \n",
      "\n",
      "\n",
      "                                                                                                \n",
      "\n",
      "                                                                                                \n",
      "                                                                                                \n",
      "\n",
      "\n",
      "\n",
      "                                                                                                \n",
      "\n",
      "\n",
      "\n",
      "\n",
      "                                                                                                \r"
     ]
    },
    {
     "name": "stdout",
     "output_type": "stream",
     "text": [
      "Already scraped\n"
     ]
    },
    {
     "name": "stderr",
     "output_type": "stream",
     "text": [
      "  0%|                                                 | 37/563569 [1:20:38<178:28:13,  1.14s/it]\n",
      "\n",
      "\n",
      "  0%|                                                  | 4/563569 [1:11:42<156:28:41,  1.00it/s]\n",
      "\n",
      "  0%|                                                 | 56/563569 [1:12:04<175:54:36,  1.12s/it]\n",
      "  0%|                                                 | 44/563569 [1:18:37<167:01:38,  1.07s/it]\n",
      "\n",
      "\n",
      "\n",
      "  0%|                                                 | 45/563569 [1:06:05<116:56:24,  1.34it/s]\n",
      "\n",
      "\n",
      "\n",
      "\n",
      "                                                                                                \n",
      "\n",
      "\n",
      "                                                                                                \n",
      "\n",
      "                                                                                                \n",
      "                                                                                                \n",
      "\n",
      "\n",
      "\n",
      "                                                                                                \n",
      "\n",
      "\n",
      "\n",
      "\n",
      "                                                                                                \r"
     ]
    },
    {
     "name": "stdout",
     "output_type": "stream",
     "text": [
      "https://projects.propublica.org/nonprofits/organizations/943001086\n"
     ]
    },
    {
     "name": "stderr",
     "output_type": "stream",
     "text": [
      "  0%|                                                 | 37/563569 [1:20:38<178:28:13,  1.14s/it]\n",
      "\n",
      "\n",
      "  0%|                                                  | 4/563569 [1:11:42<156:28:41,  1.00it/s]\n",
      "\n",
      "  0%|                                                 | 56/563569 [1:12:04<175:54:36,  1.12s/it]\n",
      "  0%|                                                 | 44/563569 [1:18:37<167:01:38,  1.07s/it]\n",
      "\n",
      "\n",
      "\n",
      "  0%|                                                 | 45/563569 [1:06:05<116:56:24,  1.34it/s]\n",
      "\n",
      "\n",
      "\n",
      "\n",
      "                                                                                                \n",
      "\n",
      "\n",
      "                                                                                                \n",
      "\n",
      "                                                                                                \n",
      "                                                                                                \n",
      "\n",
      "\n",
      "\n",
      "                                                                                                \n",
      "\n",
      "\n",
      "\n",
      "\n",
      "                                                                                                \r"
     ]
    },
    {
     "name": "stdout",
     "output_type": "stream",
     "text": [
      "Already scraped\n"
     ]
    },
    {
     "name": "stderr",
     "output_type": "stream",
     "text": [
      "  0%|                                                 | 37/563569 [1:20:38<178:28:13,  1.14s/it]\n",
      "\n",
      "\n",
      "  0%|                                                  | 4/563569 [1:11:42<156:28:41,  1.00it/s]\n",
      "\n",
      "  0%|                                                 | 56/563569 [1:12:04<175:54:36,  1.12s/it]\n",
      "  0%|                                                 | 44/563569 [1:18:37<167:01:38,  1.07s/it]\n",
      "\n",
      "\n",
      "\n",
      "  0%|                                                 | 45/563569 [1:06:05<116:56:24,  1.34it/s]\n",
      "\n",
      "\n",
      "\n",
      "\n",
      "                                                                                                \n",
      "\n",
      "\n",
      "                                                                                                \n",
      "\n",
      "                                                                                                \n",
      "                                                                                                \n",
      "\n",
      "\n",
      "\n",
      "                                                                                                \n",
      "\n",
      "\n",
      "\n",
      "\n",
      "                                                                                                \r"
     ]
    },
    {
     "name": "stdout",
     "output_type": "stream",
     "text": [
      "https://projects.propublica.org/nonprofits/organizations/463894446\n"
     ]
    },
    {
     "name": "stderr",
     "output_type": "stream",
     "text": [
      "  0%|                                                 | 37/563569 [1:20:38<178:28:13,  1.14s/it]\n",
      "\n",
      "\n",
      "  0%|                                                  | 4/563569 [1:11:42<156:28:41,  1.00it/s]\n",
      "\n",
      "  0%|                                                 | 56/563569 [1:12:04<175:54:36,  1.12s/it]\n",
      "  0%|                                                 | 44/563569 [1:18:37<167:01:38,  1.07s/it]\n",
      "\n",
      "\n",
      "\n",
      "  0%|                                                 | 45/563569 [1:06:05<116:56:24,  1.34it/s]\n",
      "\n",
      "\n",
      "\n",
      "\n",
      "                                                                                                \n",
      "\n",
      "\n",
      "                                                                                                \n",
      "\n",
      "                                                                                                \n",
      "                                                                                                \n",
      "\n",
      "\n",
      "\n",
      "                                                                                                \n",
      "\n",
      "\n",
      "\n",
      "\n",
      "                                                                                                \r"
     ]
    },
    {
     "name": "stdout",
     "output_type": "stream",
     "text": [
      "Already scraped\n"
     ]
    },
    {
     "name": "stderr",
     "output_type": "stream",
     "text": [
      "  0%|                                                 | 37/563569 [1:20:38<178:28:13,  1.14s/it]\n",
      "\n",
      "\n",
      "  0%|                                                  | 4/563569 [1:11:42<156:28:41,  1.00it/s]\n",
      "\n",
      "  0%|                                                 | 56/563569 [1:12:04<175:54:36,  1.12s/it]\n",
      "  0%|                                                 | 44/563569 [1:18:37<167:01:38,  1.07s/it]\n",
      "\n",
      "\n",
      "\n",
      "  0%|                                                 | 45/563569 [1:06:05<116:56:24,  1.34it/s]\n",
      "\n",
      "\n",
      "\n",
      "\n",
      " 20%|████████████                                                | 2/10 [00:00<00:00, 15.75it/s]\n",
      "\n",
      "\n",
      "\n",
      "\n",
      "                                                                                                \n",
      "\n",
      "\n",
      "                                                                                                \n",
      "\n",
      "                                                                                                \n",
      "                                                                                                \n",
      "\n",
      "\n",
      "\n",
      "                                                                                                \n",
      "\n",
      "\n",
      "\n",
      "\n",
      "                                                                                                \r"
     ]
    },
    {
     "name": "stdout",
     "output_type": "stream",
     "text": [
      "https://projects.propublica.org/nonprofits/organizations/472071062\n"
     ]
    },
    {
     "name": "stderr",
     "output_type": "stream",
     "text": [
      "  0%|                                                 | 37/563569 [1:20:38<178:28:13,  1.14s/it]\n",
      "\n",
      "\n",
      "  0%|                                                  | 4/563569 [1:11:42<156:28:41,  1.00it/s]\n",
      "\n",
      "  0%|                                                 | 56/563569 [1:12:04<175:54:36,  1.12s/it]\n",
      "  0%|                                                 | 44/563569 [1:18:37<167:01:38,  1.07s/it]\n",
      "\n",
      "\n",
      "\n",
      "  0%|                                                 | 45/563569 [1:06:05<116:56:24,  1.34it/s]\n",
      "\n",
      "\n",
      "\n",
      "\n",
      "                                                                                                \n",
      "\n",
      "\n",
      "                                                                                                \n",
      "\n",
      "                                                                                                \n",
      "                                                                                                \n",
      "\n",
      "\n",
      "\n",
      "                                                                                                \n",
      "\n",
      "\n",
      "\n",
      "\n",
      "                                                                                                \r"
     ]
    },
    {
     "name": "stdout",
     "output_type": "stream",
     "text": [
      "Already scraped\n"
     ]
    },
    {
     "name": "stderr",
     "output_type": "stream",
     "text": [
      "  0%|                                                 | 37/563569 [1:20:38<178:28:13,  1.14s/it]\n",
      "\n",
      "\n",
      "  0%|                                                  | 4/563569 [1:11:42<156:28:41,  1.00it/s]\n",
      "\n",
      "  0%|                                                 | 56/563569 [1:12:04<175:54:36,  1.12s/it]\n",
      "  0%|                                                 | 44/563569 [1:18:37<167:01:38,  1.07s/it]\n",
      "\n",
      "\n",
      "\n",
      "  0%|                                                 | 45/563569 [1:06:05<116:56:24,  1.34it/s]\n",
      "\n",
      "\n",
      "\n",
      "\n",
      "                                                                                                \n",
      "\n",
      "\n",
      "                                                                                                \n",
      "\n",
      "                                                                                                \n",
      "                                                                                                \n",
      "\n",
      "\n",
      "\n",
      "                                                                                                \n",
      "\n",
      "\n",
      "\n",
      "\n",
      "                                                                                                \r"
     ]
    },
    {
     "name": "stdout",
     "output_type": "stream",
     "text": [
      "https://projects.propublica.org/nonprofits/organizations/112170742\n"
     ]
    },
    {
     "name": "stderr",
     "output_type": "stream",
     "text": [
      "  0%|                                                 | 37/563569 [1:20:38<178:28:13,  1.14s/it]\n",
      "\n",
      "\n",
      "  0%|                                                  | 4/563569 [1:11:42<156:28:41,  1.00it/s]\n",
      "\n",
      "  0%|                                                 | 56/563569 [1:12:04<175:54:36,  1.12s/it]\n",
      "  0%|                                                 | 44/563569 [1:18:37<167:01:38,  1.07s/it]\n",
      "\n",
      "\n",
      "\n",
      "  0%|                                                 | 45/563569 [1:06:05<116:56:24,  1.34it/s]\n",
      "\n",
      "\n",
      "\n",
      "\n",
      "                                                                                                \n",
      "\n",
      "\n",
      "                                                                                                \n",
      "\n",
      "                                                                                                \n",
      "                                                                                                \n",
      "\n",
      "\n",
      "\n",
      "                                                                                                \n",
      "\n",
      "\n",
      "\n",
      "\n",
      "                                                                                                \r"
     ]
    },
    {
     "name": "stdout",
     "output_type": "stream",
     "text": [
      "Already scraped\n"
     ]
    },
    {
     "name": "stderr",
     "output_type": "stream",
     "text": [
      "  0%|                                                 | 37/563569 [1:20:39<178:28:13,  1.14s/it]\n",
      "\n",
      "\n",
      "  0%|                                                  | 4/563569 [1:11:42<156:28:41,  1.00it/s]\n",
      "\n",
      "  0%|                                                 | 56/563569 [1:12:04<175:54:36,  1.12s/it]\n",
      "  0%|                                                 | 44/563569 [1:18:37<167:01:38,  1.07s/it]\n",
      "\n",
      "\n",
      "\n",
      "  0%|                                                 | 45/563569 [1:06:05<116:56:24,  1.34it/s]\n",
      "\n",
      "\n",
      "\n",
      "\n",
      "                                                                                                \n",
      "\n",
      "\n",
      "                                                                                                \n",
      "\n",
      "                                                                                                \n",
      "                                                                                                \n",
      "\n",
      "\n",
      "\n",
      "                                                                                                \n",
      "\n",
      "\n",
      "\n",
      "\n",
      "                                                                                                \r"
     ]
    },
    {
     "name": "stdout",
     "output_type": "stream",
     "text": [
      "https://projects.propublica.org/nonprofits/organizations/112786116\n"
     ]
    },
    {
     "name": "stderr",
     "output_type": "stream",
     "text": [
      "  0%|                                                 | 37/563569 [1:20:39<178:28:13,  1.14s/it]\n",
      "\n",
      "\n",
      "  0%|                                                  | 4/563569 [1:11:42<156:28:41,  1.00it/s]\n",
      "\n",
      "  0%|                                                 | 56/563569 [1:12:04<175:54:36,  1.12s/it]\n",
      "  0%|                                                 | 44/563569 [1:18:37<167:01:38,  1.07s/it]\n",
      "\n",
      "\n",
      "\n",
      "  0%|                                                 | 45/563569 [1:06:05<116:56:24,  1.34it/s]\n",
      "\n",
      "\n",
      "\n",
      "\n",
      "                                                                                                \n",
      "\n",
      "\n",
      "                                                                                                \n",
      "\n",
      "                                                                                                \n",
      "                                                                                                \n",
      "\n",
      "\n",
      "\n",
      "                                                                                                \n",
      "\n",
      "\n",
      "\n",
      "\n",
      "                                                                                                \r"
     ]
    },
    {
     "name": "stdout",
     "output_type": "stream",
     "text": [
      "Already scraped\n"
     ]
    },
    {
     "name": "stderr",
     "output_type": "stream",
     "text": [
      "  0%|                                                 | 37/563569 [1:20:39<178:28:13,  1.14s/it]\n",
      "\n",
      "\n",
      "  0%|                                                  | 4/563569 [1:11:42<156:28:41,  1.00it/s]\n",
      "\n",
      "  0%|                                                 | 56/563569 [1:12:04<175:54:36,  1.12s/it]\n",
      "  0%|                                                 | 44/563569 [1:18:37<167:01:38,  1.07s/it]\n",
      "\n",
      "\n",
      "\n",
      "  0%|                                                 | 45/563569 [1:06:05<116:56:24,  1.34it/s]\n",
      "\n",
      "\n",
      "\n",
      "\n",
      " 50%|██████████████████████████████                              | 5/10 [00:00<00:00, 17.06it/s]\n",
      "\n",
      "\n",
      "\n",
      "\n",
      "                                                                                                \n",
      "\n",
      "\n",
      "                                                                                                \n",
      "\n",
      "                                                                                                \n",
      "                                                                                                \n",
      "\n",
      "\n",
      "\n",
      "                                                                                                \n",
      "\n",
      "\n",
      "\n",
      "\n",
      "                                                                                                \r"
     ]
    },
    {
     "name": "stdout",
     "output_type": "stream",
     "text": [
      "https://projects.propublica.org/nonprofits/organizations/380633733\n"
     ]
    },
    {
     "name": "stderr",
     "output_type": "stream",
     "text": [
      "  0%|                                                 | 37/563569 [1:20:39<178:28:13,  1.14s/it]\n",
      "\n",
      "\n",
      "  0%|                                                  | 4/563569 [1:11:42<156:28:41,  1.00it/s]\n",
      "\n",
      "  0%|                                                 | 56/563569 [1:12:04<175:54:36,  1.12s/it]\n",
      "  0%|                                                 | 44/563569 [1:18:37<167:01:38,  1.07s/it]\n",
      "\n",
      "\n",
      "\n",
      "  0%|                                                 | 45/563569 [1:06:05<116:56:24,  1.34it/s]\n",
      "\n",
      "\n",
      "\n",
      "\n",
      "                                                                                                \n",
      "\n",
      "\n",
      "                                                                                                \n",
      "\n",
      "                                                                                                \n",
      "                                                                                                \n",
      "\n",
      "\n",
      "\n",
      "                                                                                                \n",
      "\n",
      "\n",
      "\n",
      "\n",
      "                                                                                                \r"
     ]
    },
    {
     "name": "stdout",
     "output_type": "stream",
     "text": [
      "Already scraped\n"
     ]
    },
    {
     "name": "stderr",
     "output_type": "stream",
     "text": [
      "  0%|                                                 | 37/563569 [1:20:39<178:28:13,  1.14s/it]\n",
      "\n",
      "\n",
      "  0%|                                                  | 4/563569 [1:11:43<156:28:41,  1.00it/s]\n",
      "\n",
      "  0%|                                                 | 56/563569 [1:12:05<175:54:36,  1.12s/it]\n",
      "  0%|                                                 | 44/563569 [1:18:38<167:01:38,  1.07s/it]\n",
      "\n",
      "\n",
      "\n",
      "  0%|                                                 | 45/563569 [1:06:06<116:56:24,  1.34it/s]\n",
      "\n",
      "\n",
      "\n",
      "\n",
      "                                                                                                \n",
      "\n",
      "\n",
      "                                                                                                \n",
      "\n",
      "                                                                                                \n",
      "                                                                                                \n",
      "\n",
      "\n",
      "\n",
      "                                                                                                \n",
      "\n",
      "\n",
      "\n",
      "\n",
      "                                                                                                \r"
     ]
    },
    {
     "name": "stdout",
     "output_type": "stream",
     "text": [
      "https://projects.propublica.org/nonprofits/organizations/831304139\n"
     ]
    },
    {
     "name": "stderr",
     "output_type": "stream",
     "text": [
      "  0%|                                                 | 37/563569 [1:20:39<178:28:13,  1.14s/it]\n",
      "\n",
      "\n",
      "  0%|                                                  | 4/563569 [1:11:43<156:28:41,  1.00it/s]\n",
      "\n",
      "  0%|                                                 | 56/563569 [1:12:05<175:54:36,  1.12s/it]\n",
      "  0%|                                                 | 44/563569 [1:18:38<167:01:38,  1.07s/it]\n",
      "\n",
      "\n",
      "\n",
      "  0%|                                                 | 45/563569 [1:06:06<116:56:24,  1.34it/s]\n",
      "\n",
      "\n",
      "\n",
      "\n",
      "                                                                                                \n",
      "\n",
      "\n",
      "                                                                                                \n",
      "\n",
      "                                                                                                \n",
      "                                                                                                \n",
      "\n",
      "\n",
      "\n",
      "                                                                                                \n",
      "\n",
      "\n",
      "\n",
      "\n",
      "                                                                                                \r"
     ]
    },
    {
     "name": "stdout",
     "output_type": "stream",
     "text": [
      "Already scraped\n"
     ]
    },
    {
     "name": "stderr",
     "output_type": "stream",
     "text": [
      "  0%|                                                 | 37/563569 [1:20:39<178:28:13,  1.14s/it]\n",
      "\n",
      "\n",
      "  0%|                                                  | 4/563569 [1:11:43<156:28:41,  1.00it/s]\n",
      "\n",
      "  0%|                                                 | 56/563569 [1:12:05<175:54:36,  1.12s/it]\n",
      "  0%|                                                 | 44/563569 [1:18:38<167:01:38,  1.07s/it]\n",
      "\n",
      "\n",
      "\n",
      "  0%|                                                 | 45/563569 [1:06:06<116:56:24,  1.34it/s]\n",
      "\n",
      "\n",
      "\n",
      "\n",
      " 80%|████████████████████████████████████████████████            | 8/10 [00:01<00:00, 17.08it/s]\n",
      "\n",
      "\n",
      "\n",
      "\n",
      "100%|███████████████████████████████████████████████████████████| 10/10 [00:01<00:00,  9.52it/s]\n"
     ]
    }
   ],
   "source": [
    "results = propublica.scrape_companies(10)"
   ]
  },
  {
   "cell_type": "code",
   "execution_count": 101,
   "metadata": {
    "collapsed": true,
    "jupyter": {
     "outputs_hidden": true
    }
   },
   "outputs": [
    {
     "data": {
      "text/html": [
       "<div>\n",
       "<style scoped>\n",
       "    .dataframe tbody tr th:only-of-type {\n",
       "        vertical-align: middle;\n",
       "    }\n",
       "\n",
       "    .dataframe tbody tr th {\n",
       "        vertical-align: top;\n",
       "    }\n",
       "\n",
       "    .dataframe thead th {\n",
       "        text-align: right;\n",
       "    }\n",
       "</style>\n",
       "<table border=\"1\" class=\"dataframe\">\n",
       "  <thead>\n",
       "    <tr style=\"text-align: right;\">\n",
       "      <th></th>\n",
       "      <th>URL</th>\n",
       "      <th>Guidestar URL</th>\n",
       "      <th>Name</th>\n",
       "      <th>Metadata</th>\n",
       "      <th>EIN</th>\n",
       "      <th>Nonprofit Tax Code Designation</th>\n",
       "      <th>Classification</th>\n",
       "      <th>Year</th>\n",
       "      <th>Total Revenue</th>\n",
       "      <th>Total Assets</th>\n",
       "    </tr>\n",
       "  </thead>\n",
       "  <tbody>\n",
       "    <tr>\n",
       "      <td>0</td>\n",
       "      <td>https://projects.propublica.org/nonprofits/org...</td>\n",
       "      <td>https://www.guidestar.org/organizations/13-373...</td>\n",
       "      <td>10 W 33 ST HOLDING CORP</td>\n",
       "      <td>WSB 1411 BROADWAY 9TH FLOOR, NEW YORK, NY 1001...</td>\n",
       "      <td>13-3732472</td>\n",
       "      <td>501(c)(2)</td>\n",
       "      <td>NaN</td>\n",
       "      <td>2016.0</td>\n",
       "      <td>$840,071</td>\n",
       "      <td>$5,460,620</td>\n",
       "    </tr>\n",
       "    <tr>\n",
       "      <td>1</td>\n",
       "      <td>https://projects.propublica.org/nonprofits/org...</td>\n",
       "      <td>https://www.guidestar.org/organizations/13-373...</td>\n",
       "      <td>10 W 33 ST HOLDING CORP</td>\n",
       "      <td>WSB 1411 BROADWAY 9TH FLOOR, NEW YORK, NY 1001...</td>\n",
       "      <td>13-3732472</td>\n",
       "      <td>501(c)(2)</td>\n",
       "      <td>NaN</td>\n",
       "      <td>2015.0</td>\n",
       "      <td>$814,880</td>\n",
       "      <td>$5,448,549</td>\n",
       "    </tr>\n",
       "    <tr>\n",
       "      <td>2</td>\n",
       "      <td>https://projects.propublica.org/nonprofits/org...</td>\n",
       "      <td>https://www.guidestar.org/organizations/13-373...</td>\n",
       "      <td>10 W 33 ST HOLDING CORP</td>\n",
       "      <td>WSB 1411 BROADWAY 9TH FLOOR, NEW YORK, NY 1001...</td>\n",
       "      <td>13-3732472</td>\n",
       "      <td>501(c)(2)</td>\n",
       "      <td>NaN</td>\n",
       "      <td>2014.0</td>\n",
       "      <td>$717,347</td>\n",
       "      <td>$5,461,669</td>\n",
       "    </tr>\n",
       "    <tr>\n",
       "      <td>3</td>\n",
       "      <td>https://projects.propublica.org/nonprofits/org...</td>\n",
       "      <td>https://www.guidestar.org/organizations/13-373...</td>\n",
       "      <td>10 W 33 ST HOLDING CORP</td>\n",
       "      <td>WSB 1411 BROADWAY 9TH FLOOR, NEW YORK, NY 1001...</td>\n",
       "      <td>13-3732472</td>\n",
       "      <td>501(c)(2)</td>\n",
       "      <td>NaN</td>\n",
       "      <td>2013.0</td>\n",
       "      <td>$767,355</td>\n",
       "      <td>$5,687,322</td>\n",
       "    </tr>\n",
       "    <tr>\n",
       "      <td>4</td>\n",
       "      <td>https://projects.propublica.org/nonprofits/org...</td>\n",
       "      <td>https://www.guidestar.org/organizations/13-373...</td>\n",
       "      <td>10 W 33 ST HOLDING CORP</td>\n",
       "      <td>WSB 1411 BROADWAY 9TH FLOOR, NEW YORK, NY 1001...</td>\n",
       "      <td>13-3732472</td>\n",
       "      <td>501(c)(2)</td>\n",
       "      <td>NaN</td>\n",
       "      <td>2012.0</td>\n",
       "      <td>$765,451</td>\n",
       "      <td>$5,696,217</td>\n",
       "    </tr>\n",
       "    <tr>\n",
       "      <td>...</td>\n",
       "      <td>...</td>\n",
       "      <td>...</td>\n",
       "      <td>...</td>\n",
       "      <td>...</td>\n",
       "      <td>...</td>\n",
       "      <td>...</td>\n",
       "      <td>...</td>\n",
       "      <td>...</td>\n",
       "      <td>...</td>\n",
       "      <td>...</td>\n",
       "    </tr>\n",
       "    <tr>\n",
       "      <td>211</td>\n",
       "      <td>https://projects.propublica.org/nonprofits/org...</td>\n",
       "      <td>https://www.guidestar.org/organizations/23-276...</td>\n",
       "      <td>19 CAMPUS BLVD BUSINESS TR</td>\n",
       "      <td>19 CAMPUS BLVD STE 200, NEWTOWN SQ, PA 19073-3...</td>\n",
       "      <td>23-2763212</td>\n",
       "      <td>501(c)(2)</td>\n",
       "      <td>NaN</td>\n",
       "      <td>2012.0</td>\n",
       "      <td>$1,588,093</td>\n",
       "      <td>$5,605,406</td>\n",
       "    </tr>\n",
       "    <tr>\n",
       "      <td>212</td>\n",
       "      <td>https://projects.propublica.org/nonprofits/org...</td>\n",
       "      <td>https://www.guidestar.org/organizations/23-276...</td>\n",
       "      <td>19 CAMPUS BLVD BUSINESS TR</td>\n",
       "      <td>19 CAMPUS BLVD STE 200, NEWTOWN SQ, PA 19073-3...</td>\n",
       "      <td>23-2763212</td>\n",
       "      <td>501(c)(2)</td>\n",
       "      <td>NaN</td>\n",
       "      <td>2011.0</td>\n",
       "      <td>$1,411,820</td>\n",
       "      <td>$5,496,584</td>\n",
       "    </tr>\n",
       "    <tr>\n",
       "      <td>213</td>\n",
       "      <td>https://projects.propublica.org/nonprofits/org...</td>\n",
       "      <td>https://www.guidestar.org/organizations/46-138...</td>\n",
       "      <td>195 MONTAGUE CORP</td>\n",
       "      <td>195 MONTAGUE ST 3RD FLOOR, BROOKLYN, NY 11201-...</td>\n",
       "      <td>46-1380694</td>\n",
       "      <td>501(c)(2)</td>\n",
       "      <td>Nonprofit Management (Community Improvement, C...</td>\n",
       "      <td>2016.0</td>\n",
       "      <td>$931,492</td>\n",
       "      <td>$22,683,513</td>\n",
       "    </tr>\n",
       "    <tr>\n",
       "      <td>214</td>\n",
       "      <td>https://projects.propublica.org/nonprofits/org...</td>\n",
       "      <td>https://www.guidestar.org/organizations/46-138...</td>\n",
       "      <td>195 MONTAGUE CORP</td>\n",
       "      <td>195 MONTAGUE ST 3RD FLOOR, BROOKLYN, NY 11201-...</td>\n",
       "      <td>46-1380694</td>\n",
       "      <td>501(c)(2)</td>\n",
       "      <td>Nonprofit Management (Community Improvement, C...</td>\n",
       "      <td>2015.0</td>\n",
       "      <td>$1,555,537</td>\n",
       "      <td>$24,990,535</td>\n",
       "    </tr>\n",
       "    <tr>\n",
       "      <td>215</td>\n",
       "      <td>https://projects.propublica.org/nonprofits/org...</td>\n",
       "      <td>https://www.guidestar.org/organizations/46-138...</td>\n",
       "      <td>195 MONTAGUE CORP</td>\n",
       "      <td>195 MONTAGUE ST 3RD FLOOR, BROOKLYN, NY 11201-...</td>\n",
       "      <td>46-1380694</td>\n",
       "      <td>501(c)(2)</td>\n",
       "      <td>Nonprofit Management (Community Improvement, C...</td>\n",
       "      <td>2014.0</td>\n",
       "      <td>$750,993</td>\n",
       "      <td>$25,857,358</td>\n",
       "    </tr>\n",
       "  </tbody>\n",
       "</table>\n",
       "<p>216 rows × 10 columns</p>\n",
       "</div>"
      ],
      "text/plain": [
       "                                                   URL  \\\n",
       "0    https://projects.propublica.org/nonprofits/org...   \n",
       "1    https://projects.propublica.org/nonprofits/org...   \n",
       "2    https://projects.propublica.org/nonprofits/org...   \n",
       "3    https://projects.propublica.org/nonprofits/org...   \n",
       "4    https://projects.propublica.org/nonprofits/org...   \n",
       "..                                                 ...   \n",
       "211  https://projects.propublica.org/nonprofits/org...   \n",
       "212  https://projects.propublica.org/nonprofits/org...   \n",
       "213  https://projects.propublica.org/nonprofits/org...   \n",
       "214  https://projects.propublica.org/nonprofits/org...   \n",
       "215  https://projects.propublica.org/nonprofits/org...   \n",
       "\n",
       "                                         Guidestar URL  \\\n",
       "0    https://www.guidestar.org/organizations/13-373...   \n",
       "1    https://www.guidestar.org/organizations/13-373...   \n",
       "2    https://www.guidestar.org/organizations/13-373...   \n",
       "3    https://www.guidestar.org/organizations/13-373...   \n",
       "4    https://www.guidestar.org/organizations/13-373...   \n",
       "..                                                 ...   \n",
       "211  https://www.guidestar.org/organizations/23-276...   \n",
       "212  https://www.guidestar.org/organizations/23-276...   \n",
       "213  https://www.guidestar.org/organizations/46-138...   \n",
       "214  https://www.guidestar.org/organizations/46-138...   \n",
       "215  https://www.guidestar.org/organizations/46-138...   \n",
       "\n",
       "                           Name  \\\n",
       "0       10 W 33 ST HOLDING CORP   \n",
       "1       10 W 33 ST HOLDING CORP   \n",
       "2       10 W 33 ST HOLDING CORP   \n",
       "3       10 W 33 ST HOLDING CORP   \n",
       "4       10 W 33 ST HOLDING CORP   \n",
       "..                          ...   \n",
       "211  19 CAMPUS BLVD BUSINESS TR   \n",
       "212  19 CAMPUS BLVD BUSINESS TR   \n",
       "213           195 MONTAGUE CORP   \n",
       "214           195 MONTAGUE CORP   \n",
       "215           195 MONTAGUE CORP   \n",
       "\n",
       "                                              Metadata         EIN  \\\n",
       "0    WSB 1411 BROADWAY 9TH FLOOR, NEW YORK, NY 1001...  13-3732472   \n",
       "1    WSB 1411 BROADWAY 9TH FLOOR, NEW YORK, NY 1001...  13-3732472   \n",
       "2    WSB 1411 BROADWAY 9TH FLOOR, NEW YORK, NY 1001...  13-3732472   \n",
       "3    WSB 1411 BROADWAY 9TH FLOOR, NEW YORK, NY 1001...  13-3732472   \n",
       "4    WSB 1411 BROADWAY 9TH FLOOR, NEW YORK, NY 1001...  13-3732472   \n",
       "..                                                 ...         ...   \n",
       "211  19 CAMPUS BLVD STE 200, NEWTOWN SQ, PA 19073-3...  23-2763212   \n",
       "212  19 CAMPUS BLVD STE 200, NEWTOWN SQ, PA 19073-3...  23-2763212   \n",
       "213  195 MONTAGUE ST 3RD FLOOR, BROOKLYN, NY 11201-...  46-1380694   \n",
       "214  195 MONTAGUE ST 3RD FLOOR, BROOKLYN, NY 11201-...  46-1380694   \n",
       "215  195 MONTAGUE ST 3RD FLOOR, BROOKLYN, NY 11201-...  46-1380694   \n",
       "\n",
       "    Nonprofit Tax Code Designation  \\\n",
       "0                        501(c)(2)   \n",
       "1                        501(c)(2)   \n",
       "2                        501(c)(2)   \n",
       "3                        501(c)(2)   \n",
       "4                        501(c)(2)   \n",
       "..                             ...   \n",
       "211                      501(c)(2)   \n",
       "212                      501(c)(2)   \n",
       "213                      501(c)(2)   \n",
       "214                      501(c)(2)   \n",
       "215                      501(c)(2)   \n",
       "\n",
       "                                        Classification    Year Total Revenue  \\\n",
       "0                                                  NaN  2016.0      $840,071   \n",
       "1                                                  NaN  2015.0      $814,880   \n",
       "2                                                  NaN  2014.0      $717,347   \n",
       "3                                                  NaN  2013.0      $767,355   \n",
       "4                                                  NaN  2012.0      $765,451   \n",
       "..                                                 ...     ...           ...   \n",
       "211                                                NaN  2012.0    $1,588,093   \n",
       "212                                                NaN  2011.0    $1,411,820   \n",
       "213  Nonprofit Management (Community Improvement, C...  2016.0      $931,492   \n",
       "214  Nonprofit Management (Community Improvement, C...  2015.0    $1,555,537   \n",
       "215  Nonprofit Management (Community Improvement, C...  2014.0      $750,993   \n",
       "\n",
       "    Total Assets  \n",
       "0     $5,460,620  \n",
       "1     $5,448,549  \n",
       "2     $5,461,669  \n",
       "3     $5,687,322  \n",
       "4     $5,696,217  \n",
       "..           ...  \n",
       "211   $5,605,406  \n",
       "212   $5,496,584  \n",
       "213  $22,683,513  \n",
       "214  $24,990,535  \n",
       "215  $25,857,358  \n",
       "\n",
       "[216 rows x 10 columns]"
      ]
     },
     "execution_count": 101,
     "metadata": {},
     "output_type": "execute_result"
    }
   ],
   "source": [
    "cols = ['URL', 'Guidestar URL', 'Name', 'Metadata', 'EIN', 'Nonprofit Tax Code Designation', 'Classification', 'Year', 'Total Revenue', 'Total Assets']\n",
    "cdf = pd.DataFrame(results)\n",
    "cdf.drop_duplicates(inplace=True)\n",
    "cdf[cols]"
   ]
  },
  {
   "cell_type": "code",
   "execution_count": 91,
   "metadata": {},
   "outputs": [],
   "source": [
    "cdf.to_csv('./results.csv', index=None)"
   ]
  },
  {
   "cell_type": "markdown",
   "metadata": {},
   "source": [
    "---"
   ]
  },
  {
   "cell_type": "markdown",
   "metadata": {},
   "source": [
    "Split Companies into N smaller batchs"
   ]
  },
  {
   "cell_type": "code",
   "execution_count": 205,
   "metadata": {},
   "outputs": [],
   "source": [
    "cf = pd.read_csv('./companies.csv')"
   ]
  },
  {
   "cell_type": "code",
   "execution_count": 210,
   "metadata": {},
   "outputs": [],
   "source": [
    "size = len(companies)\n",
    "N = 9"
   ]
  },
  {
   "cell_type": "code",
   "execution_count": 211,
   "metadata": {},
   "outputs": [],
   "source": [
    "cks = [ df for g, df in cf.groupby(np.arange(size) // (size // N)) ]\n",
    "cks[-2] = pd.concat([cks[-2], cks[-1]])\n",
    "cks = cks[:-1]"
   ]
  },
  {
   "cell_type": "code",
   "execution_count": 212,
   "metadata": {},
   "outputs": [
    {
     "data": {
      "text/plain": [
       "9"
      ]
     },
     "execution_count": 212,
     "metadata": {},
     "output_type": "execute_result"
    }
   ],
   "source": [
    "len(cks)"
   ]
  },
  {
   "cell_type": "code",
   "execution_count": 216,
   "metadata": {},
   "outputs": [
    {
     "name": "stdout",
     "output_type": "stream",
     "text": [
      "./chunks/chunk_0.csv 62618\n",
      "./chunks/chunk_1.csv 62618\n",
      "./chunks/chunk_2.csv 62618\n",
      "./chunks/chunk_3.csv 62618\n",
      "./chunks/chunk_4.csv 62618\n",
      "./chunks/chunk_5.csv 62618\n",
      "./chunks/chunk_6.csv 62618\n",
      "./chunks/chunk_7.csv 62618\n",
      "./chunks/chunk_8.csv 62625\n"
     ]
    }
   ],
   "source": [
    "for i, chunk in enumerate(cks):\n",
    "    filename = './chunks/chunk_{}.csv'.format(i)\n",
    "    print(filename, len(chunk))\n",
    "    chunk.to_csv(filename, index=None)"
   ]
  },
  {
   "cell_type": "markdown",
   "metadata": {},
   "source": [
    "```bash\n",
    "# Send chunks\n",
    "index=0; \n",
    "while read ip; do \n",
    "scp 'chunk_'$index'.csv' oswaldo@$ip:~/propublica/companies.csv; \n",
    "((index++)); \n",
    "done < ../hosts.txt\n",
    "\n",
    "# Send command to multiple hosts\n",
    "pssh -x -oStrictHostKeyChecking=no -h hosts.txt -l oswaldo \"echo 'Hello World'\"\n",
    "\n",
    "# Check how many lines has companies.csv\n",
    "pssh -i -h hosts.txt -l oswaldo \"cd propublica; wc -l companies.csv\"\n",
    "\n",
    "# Download results from hosts\n",
    "pslurp -h hosts.txt -l oswaldo -L results /home/oswaldo/propublica/results.csv results.csv\n",
    "\n",
    "```"
   ]
  },
  {
   "cell_type": "markdown",
   "metadata": {},
   "source": [
    "---"
   ]
  },
  {
   "cell_type": "markdown",
   "metadata": {},
   "source": [
    "Merge all results from all hosts"
   ]
  },
  {
   "cell_type": "code",
   "execution_count": 4,
   "metadata": {},
   "outputs": [],
   "source": [
    "import glob"
   ]
  },
  {
   "cell_type": "code",
   "execution_count": 25,
   "metadata": {},
   "outputs": [],
   "source": [
    "fls = glob.glob('./results/*/*')\n",
    "dfs = [ pd.read_csv(fl) for fl in fls ]\n",
    "df  = pd.concat(dfs)\n",
    "df.drop_duplicates(inplace=True)"
   ]
  },
  {
   "cell_type": "code",
   "execution_count": 26,
   "metadata": {},
   "outputs": [],
   "source": [
    "df.to_csv('./results.csv', index=None)"
   ]
  },
  {
   "cell_type": "code",
   "execution_count": null,
   "metadata": {},
   "outputs": [],
   "source": []
  }
 ],
 "metadata": {
  "kernelspec": {
   "display_name": "Python 3",
   "language": "python",
   "name": "python3"
  },
  "language_info": {
   "codemirror_mode": {
    "name": "ipython",
    "version": 3
   },
   "file_extension": ".py",
   "mimetype": "text/x-python",
   "name": "python",
   "nbconvert_exporter": "python",
   "pygments_lexer": "ipython3",
   "version": "3.7.4"
  },
  "widgets": {
   "application/vnd.jupyter.widget-state+json": {
    "state": {},
    "version_major": 2,
    "version_minor": 0
   }
  }
 },
 "nbformat": 4,
 "nbformat_minor": 4
}
